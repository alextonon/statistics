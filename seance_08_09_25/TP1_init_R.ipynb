{
 "cells": [
  {
   "cell_type": "markdown",
   "metadata": {},
   "source": [
    "# TP 1 : Initiation à R et statistique élémentaire"
   ]
  },
  {
   "cell_type": "markdown",
   "metadata": {},
   "source": [
    "## 1. Initiation à R\n",
    "\n",
    "*R is a language and environment for statistical computing and graphics. It is a [GNU project](https://www.gnu.org/) which is similar to the S language and environment which was developed at Bell Laboratories (formerly AT&T, now Lucent Technologies) by John Chambers and colleagues. R can be considered as a different implementation of S. There are some important differences, but much code written for S runs unaltered under R.*\n",
    "\n",
    "*R provides a wide variety of statistical (linear and nonlinear modelling, classical statistical tests, time-series analysis, classification, clustering, …) and graphical techniques, and is highly extensible. The S language is often the vehicle of choice for research in statistical methodology, and R provides an Open Source route to participation in that activity.*\n",
    "\n",
    "*One of R’s strengths is the ease with which well-designed publication-quality plots can be produced, including mathematical symbols and formulae where needed. Great care has been taken over the defaults for the minor design choices in graphics, but the user retains full control.*\n",
    "\n",
    "*R is available as Free Software under the terms of the [Free Software Foundation](https://www.fsf.org/)’s [GNU General Public License](https://www.r-project.org/COPYING) in source code form. It compiles and runs on a wide variety of UNIX platforms and similar systems (including FreeBSD and Linux), Windows and MacOS.*\n",
    "\n",
    "### 1.1 Structure de données\n",
    "\n",
    "#### Calculatrice"
   ]
  },
  {
   "cell_type": "code",
   "execution_count": 1,
   "metadata": {
    "vscode": {
     "languageId": "r"
    }
   },
   "outputs": [
    {
     "data": {
      "text/html": [
       "4"
      ],
      "text/latex": [
       "4"
      ],
      "text/markdown": [
       "4"
      ],
      "text/plain": [
       "[1] 4"
      ]
     },
     "metadata": {},
     "output_type": "display_data"
    }
   ],
   "source": [
    "# Opérations élémentaires\n",
    "2 + 2"
   ]
  },
  {
   "cell_type": "code",
   "execution_count": 2,
   "metadata": {
    "vscode": {
     "languageId": "r"
    }
   },
   "outputs": [
    {
     "data": {
      "text/html": [
       "22026.4657948067"
      ],
      "text/latex": [
       "22026.4657948067"
      ],
      "text/markdown": [
       "22026.4657948067"
      ],
      "text/plain": [
       "[1] 22026.47"
      ]
     },
     "metadata": {},
     "output_type": "display_data"
    }
   ],
   "source": [
    "# Fonctions usuelles\n",
    "exp(10)"
   ]
  },
  {
   "cell_type": "code",
   "execution_count": null,
   "metadata": {
    "vscode": {
     "languageId": "r"
    }
   },
   "outputs": [],
   "source": [
    "# Affectation de variables\n",
    "a <- log(2)\n",
    "b <- 10\n",
    "a + b"
   ]
  },
  {
   "cell_type": "code",
   "execution_count": null,
   "metadata": {
    "vscode": {
     "languageId": "r"
    }
   },
   "outputs": [],
   "source": [
    "# Booléens\n",
    "a < b"
   ]
  },
  {
   "cell_type": "code",
   "execution_count": 4,
   "metadata": {
    "vscode": {
     "languageId": "r"
    }
   },
   "outputs": [
    {
     "name": "stdout",
     "output_type": "stream",
     "text": [
      "Mon nom est Alice"
     ]
    }
   ],
   "source": [
    "# Chaînes de caractères\n",
    "nom <- \"Alice\"\n",
    "cat(\"Mon nom est\", nom)"
   ]
  },
  {
   "cell_type": "markdown",
   "metadata": {},
   "source": [
    "<div class=\"alert alert-block alert-info\">\n",
    "    <b>À retenir :</b>\n",
    "    <ul>\n",
    "        <li>Différents types de données : numérique, caractères, logique (<code>TRUE</code> et <code>FALSE</code>)</li>\n",
    "        <li>Sauvegarde d'une valeur dans une variable avec l’opérateur <code>&lt;-</code></li>\n",
    "    </ul>\n",
    "</div>"
   ]
  },
  {
   "cell_type": "markdown",
   "metadata": {},
   "source": [
    "#### Vecteur"
   ]
  },
  {
   "cell_type": "code",
   "execution_count": 10,
   "metadata": {
    "vscode": {
     "languageId": "r"
    }
   },
   "outputs": [
    {
     "name": "stdout",
     "output_type": "stream",
     "text": [
      "Longueur : 5"
     ]
    }
   ],
   "source": [
    "# Premier vecteur\n",
    "mon_vecteur <- c(2,3,8,6,7)\n",
    "cat(\"Longueur :\", length(mon_vecteur))"
   ]
  },
  {
   "cell_type": "code",
   "execution_count": 11,
   "metadata": {
    "vscode": {
     "languageId": "r"
    }
   },
   "outputs": [
    {
     "name": "stdout",
     "output_type": "stream",
     "text": [
      "[1] 3 4 9 7 8\n"
     ]
    }
   ],
   "source": [
    "# Opérations terme à terme\n",
    "print(mon_vecteur + 1)"
   ]
  },
  {
   "cell_type": "code",
   "execution_count": 7,
   "metadata": {
    "vscode": {
     "languageId": "r"
    }
   },
   "outputs": [
    {
     "name": "stdout",
     "output_type": "stream",
     "text": [
      "[1] 3\n"
     ]
    }
   ],
   "source": [
    "# Accès à un élément par sa position\n",
    "elem2 <- mon_vecteur[2]\n",
    "print(elem2)"
   ]
  },
  {
   "cell_type": "code",
   "execution_count": 8,
   "metadata": {
    "vscode": {
     "languageId": "r"
    }
   },
   "outputs": [
    {
     "name": "stdout",
     "output_type": "stream",
     "text": [
      "[1] 3 8 6\n"
     ]
    }
   ],
   "source": [
    "# Accès à des éléments par tranche\n",
    "print(mon_vecteur[2:4])"
   ]
  },
  {
   "cell_type": "code",
   "execution_count": 9,
   "metadata": {
    "vscode": {
     "languageId": "r"
    }
   },
   "outputs": [
    {
     "name": "stdout",
     "output_type": "stream",
     "text": [
      "[1] 8 7\n"
     ]
    }
   ],
   "source": [
    "# Filtre sur les éléments\n",
    "filtre <- c(FALSE, FALSE, TRUE, FALSE, TRUE)\n",
    "mon_vecteur_filtre <- mon_vecteur[filtre]\n",
    "print(mon_vecteur_filtre)"
   ]
  },
  {
   "cell_type": "code",
   "execution_count": 12,
   "metadata": {
    "vscode": {
     "languageId": "r"
    }
   },
   "outputs": [
    {
     "name": "stdout",
     "output_type": "stream",
     "text": [
      "*** Avant :\n",
      "[1]  1  4  7 10 13 16 19\n",
      "Type : double \n",
      "*** Après :\n",
      "[1] \"1\"      \"quatre\" \"7\"      \"10\"     \"13\"     \"16\"     \"19\"    \n",
      "Type : character \n"
     ]
    }
   ],
   "source": [
    "# Création d'un vecteur de séquence\n",
    "autre_vecteur <- seq(from=1, to=20, by=3)\n",
    "cat(\"*** Avant :\\n\")\n",
    "print(autre_vecteur)\n",
    "cat(\"Type :\", typeof(autre_vecteur), \"\\n\")\n",
    "# Remplacement d'un élément par une chaîne de caractères et conversion silencieuse\n",
    "autre_vecteur[2] <- \"quatre\"\n",
    "cat(\"*** Après :\\n\")\n",
    "print(autre_vecteur)\n",
    "cat(\"Type :\", typeof(autre_vecteur), \"\\n\")"
   ]
  },
  {
   "cell_type": "code",
   "execution_count": 13,
   "metadata": {
    "vscode": {
     "languageId": "r"
    }
   },
   "outputs": [
    {
     "name": "stdout",
     "output_type": "stream",
     "text": [
      "[1] 10 10 10 10 10\n"
     ]
    }
   ],
   "source": [
    "# Création d'un vecteur par répétition\n",
    "encore_un_autre <- rep(10, times=5)\n",
    "print(encore_un_autre)"
   ]
  },
  {
   "cell_type": "code",
   "execution_count": 14,
   "metadata": {
    "vscode": {
     "languageId": "r"
    }
   },
   "outputs": [
    {
     "name": "stdout",
     "output_type": "stream",
     "text": [
      " [1] 2 4 2 4 2 4 2 4 2 4 2 4\n"
     ]
    }
   ],
   "source": [
    "# Cela fonctionne aussi avec la répétition d'un vecteur\n",
    "un_dernier <- rep(c(2,4), times=6)\n",
    "print(un_dernier)"
   ]
  },
  {
   "cell_type": "markdown",
   "metadata": {},
   "source": [
    "<div class=\"alert alert-block alert-info\">\n",
    "    <b>À retenir :</b>\n",
    "    <ul>\n",
    "        <li>Créer un vecteur avec des fonctions : <code>c()</code>, <code>seq()</code>, <code>rep()</code></li>\n",
    "        <li>Sélectionner des éléments d'un vecteur avec l'opérateur <code>[]</code></li>\n",
    "        <li>Les éléments d'un vecteur sont tous d'un même type</li>\n",
    "    </ul>\n",
    "</div>"
   ]
  },
  {
   "cell_type": "markdown",
   "metadata": {},
   "source": [
    "#### Matrice"
   ]
  },
  {
   "cell_type": "code",
   "execution_count": 24,
   "metadata": {
    "vscode": {
     "languageId": "r"
    }
   },
   "outputs": [
    {
     "name": "stdout",
     "output_type": "stream",
     "text": [
      "     [,1] [,2] [,3] [,4]\n",
      "[1,]    1    7   13   19\n",
      "[2,]    2    8   14   20\n",
      "[3,]    3    9   15   21\n",
      "[4,]    4   10   16   22\n",
      "[5,]    5   11   17   23\n",
      "[6,]    6   12   18   24\n",
      "Dimensions de la matrice : 6 4"
     ]
    }
   ],
   "source": [
    "# Première matrice en colonnes\n",
    "ma_matrice <- matrix(1:24, ncol=4)\n",
    "print(ma_matrice)\n",
    "cat(\"Dimensions de la matrice :\", dim(ma_matrice))"
   ]
  },
  {
   "cell_type": "code",
   "execution_count": 25,
   "metadata": {
    "vscode": {
     "languageId": "r"
    }
   },
   "outputs": [
    {
     "name": "stdout",
     "output_type": "stream",
     "text": [
      "     [,1] [,2] [,3] [,4]\n",
      "[1,]    1    2    3    4\n",
      "[2,]    5    6    7    8\n",
      "[3,]    9   10   11   12\n",
      "[4,]   13   14   15   16\n",
      "[5,]   17   18   19   20\n",
      "[6,]   21   22   23   24\n"
     ]
    }
   ],
   "source": [
    "# Première matrice en lignes\n",
    "ma_matrice2 <- matrix(1:24, ncol=4, byrow = TRUE)\n",
    "print(ma_matrice2)"
   ]
  },
  {
   "cell_type": "code",
   "execution_count": 41,
   "metadata": {
    "vscode": {
     "languageId": "r"
    }
   },
   "outputs": [
    {
     "name": "stdout",
     "output_type": "stream",
     "text": [
      "*** Somme :\n",
      "     [,1] [,2] [,3] [,4]\n",
      "[1,]    2    9   16   23\n",
      "[2,]    7   14   21   28\n",
      "[3,]   12   19   26   33\n",
      "[4,]   17   24   31   38\n",
      "[5,]   22   29   36   43\n",
      "[6,]   27   34   41   48\n",
      "*** Produit :\n",
      "     [,1] [,2] [,3] [,4]\n",
      "[1,]    1   14   39   76\n",
      "[2,]   10   48   98  160\n",
      "[3,]   27   90  165  252\n",
      "[4,]   52  140  240  352\n",
      "[5,]   85  198  323  460\n",
      "[6,]  126  264  414  576\n"
     ]
    }
   ],
   "source": [
    "# Opérations terme à terme\n",
    "cat(\"*** Somme :\\n\")\n",
    "print(ma_matrice + ma_matrice2)\n",
    "cat(\"*** Produit :\\n\")\n",
    "print(ma_matrice * ma_matrice2)"
   ]
  },
  {
   "cell_type": "code",
   "execution_count": null,
   "metadata": {
    "vscode": {
     "languageId": "r"
    }
   },
   "outputs": [
    {
     "ename": "ERROR",
     "evalue": "Error in ma_matrice %*% ma_matrice2: arguments inadéquats\n",
     "output_type": "error",
     "traceback": [
      "Error in ma_matrice %*% ma_matrice2: arguments inadéquats\nTraceback:\n",
      "1. .handleSimpleError(function (cnd) \n . {\n .     watcher$capture_plot_and_output()\n .     cnd <- sanitize_call(cnd)\n .     watcher$push(cnd)\n .     switch(on_error, continue = invokeRestart(\"eval_continue\"), \n .         stop = invokeRestart(\"eval_stop\"), error = NULL)\n . }, \"arguments inadéquats\", base::quote(ma_matrice %*% ma_matrice2))"
     ]
    }
   ],
   "source": [
    "# Produit matriciel (et erreur si la taille des matrice est inadaptée)\n",
    "ma_matrice %*% ma_matrice2"
   ]
  },
  {
   "cell_type": "code",
   "execution_count": 37,
   "metadata": {
    "vscode": {
     "languageId": "r"
    }
   },
   "outputs": [
    {
     "name": "stdout",
     "output_type": "stream",
     "text": [
      "     [,1] [,2] [,3] [,4] [,5] [,6]\n",
      "[1,]  130  290  450  610  770  930\n",
      "[2,]  140  316  492  668  844 1020\n",
      "[3,]  150  342  534  726  918 1110\n",
      "[4,]  160  368  576  784  992 1200\n",
      "[5,]  170  394  618  842 1066 1290\n",
      "[6,]  180  420  660  900 1140 1380\n"
     ]
    }
   ],
   "source": [
    "# Produit matriciel et transposition\n",
    "print(ma_matrice %*% t(ma_matrice2))"
   ]
  },
  {
   "cell_type": "code",
   "execution_count": 42,
   "metadata": {
    "vscode": {
     "languageId": "r"
    }
   },
   "outputs": [
    {
     "data": {
      "text/html": [
       "14"
      ],
      "text/latex": [
       "14"
      ],
      "text/markdown": [
       "14"
      ],
      "text/plain": [
       "[1] 14"
      ]
     },
     "metadata": {},
     "output_type": "display_data"
    }
   ],
   "source": [
    "# Accès à un élément par sa position\n",
    "ma_matrice[2,3]"
   ]
  },
  {
   "cell_type": "code",
   "execution_count": 43,
   "metadata": {
    "vscode": {
     "languageId": "r"
    }
   },
   "outputs": [
    {
     "data": {
      "text/html": [
       "<table class=\"dataframe\">\n",
       "<caption>A matrix: 3 × 3 of type int</caption>\n",
       "<tbody>\n",
       "\t<tr><td>7</td><td>13</td><td>19</td></tr>\n",
       "\t<tr><td>8</td><td>14</td><td>20</td></tr>\n",
       "\t<tr><td>9</td><td>15</td><td>21</td></tr>\n",
       "</tbody>\n",
       "</table>\n"
      ],
      "text/latex": [
       "A matrix: 3 × 3 of type int\n",
       "\\begin{tabular}{lll}\n",
       "\t 7 & 13 & 19\\\\\n",
       "\t 8 & 14 & 20\\\\\n",
       "\t 9 & 15 & 21\\\\\n",
       "\\end{tabular}\n"
      ],
      "text/markdown": [
       "\n",
       "A matrix: 3 × 3 of type int\n",
       "\n",
       "| 7 | 13 | 19 |\n",
       "| 8 | 14 | 20 |\n",
       "| 9 | 15 | 21 |\n",
       "\n"
      ],
      "text/plain": [
       "     [,1] [,2] [,3]\n",
       "[1,] 7    13   19  \n",
       "[2,] 8    14   20  \n",
       "[3,] 9    15   21  "
      ]
     },
     "metadata": {},
     "output_type": "display_data"
    }
   ],
   "source": [
    "# Accès à des éléments par tranches\n",
    "ma_matrice[1:3,2:4]"
   ]
  },
  {
   "cell_type": "code",
   "execution_count": 44,
   "metadata": {
    "vscode": {
     "languageId": "r"
    }
   },
   "outputs": [
    {
     "name": "stdout",
     "output_type": "stream",
     "text": [
      "     [,1]     [,2] [,3] [,4]\n",
      "[1,] \"Coucou\" \"7\"  \"13\" \"19\"\n",
      "[2,] \"2\"      \"8\"  \"14\" \"20\"\n",
      "[3,] \"3\"      \"9\"  \"15\" \"21\"\n",
      "[4,] \"4\"      \"10\" \"16\" \"22\"\n",
      "[5,] \"5\"      \"11\" \"17\" \"23\"\n",
      "[6,] \"6\"      \"12\" \"18\" \"24\"\n"
     ]
    },
    {
     "name": "stdout",
     "output_type": "stream",
     "text": [
      "Type de le matrice : character"
     ]
    }
   ],
   "source": [
    "# Attention à la conversion silencieuse\n",
    "ma_matrice[1] <- \"Coucou\"\n",
    "print(ma_matrice)\n",
    "cat(\"Type de le matrice :\", typeof(ma_matrice))"
   ]
  },
  {
   "cell_type": "code",
   "execution_count": 47,
   "metadata": {
    "vscode": {
     "languageId": "r"
    }
   },
   "outputs": [
    {
     "data": {
      "text/html": [
       "<style>\n",
       ".list-inline {list-style: none; margin:0; padding: 0}\n",
       ".list-inline>li {display: inline-block}\n",
       ".list-inline>li:not(:last-child)::after {content: \"\\00b7\"; padding: 0 .5ex}\n",
       "</style>\n",
       "<ol class=list-inline><li>10</li><li>26</li><li>42</li><li>58</li><li>74</li><li>90</li></ol>\n"
      ],
      "text/latex": [
       "\\begin{enumerate*}\n",
       "\\item 10\n",
       "\\item 26\n",
       "\\item 42\n",
       "\\item 58\n",
       "\\item 74\n",
       "\\item 90\n",
       "\\end{enumerate*}\n"
      ],
      "text/markdown": [
       "1. 10\n",
       "2. 26\n",
       "3. 42\n",
       "4. 58\n",
       "5. 74\n",
       "6. 90\n",
       "\n",
       "\n"
      ],
      "text/plain": [
       "[1] 10 26 42 58 74 90"
      ]
     },
     "metadata": {},
     "output_type": "display_data"
    }
   ],
   "source": [
    "# Appliquer une fonction sur chaque ligne\n",
    "apply(ma_matrice2, 1, sum)"
   ]
  },
  {
   "cell_type": "code",
   "execution_count": 22,
   "metadata": {
    "vscode": {
     "languageId": "r"
    }
   },
   "outputs": [
    {
     "data": {
      "text/html": [
       "<style>\n",
       ".list-inline {list-style: none; margin:0; padding: 0}\n",
       ".list-inline>li {display: inline-block}\n",
       ".list-inline>li:not(:last-child)::after {content: \"\\00b7\"; padding: 0 .5ex}\n",
       "</style>\n",
       "<ol class=list-inline><li>66</li><li>72</li><li>78</li><li>84</li></ol>\n"
      ],
      "text/latex": [
       "\\begin{enumerate*}\n",
       "\\item 66\n",
       "\\item 72\n",
       "\\item 78\n",
       "\\item 84\n",
       "\\end{enumerate*}\n"
      ],
      "text/markdown": [
       "1. 66\n",
       "2. 72\n",
       "3. 78\n",
       "4. 84\n",
       "\n",
       "\n"
      ],
      "text/plain": [
       "[1] 66 72 78 84"
      ]
     },
     "metadata": {},
     "output_type": "display_data"
    }
   ],
   "source": [
    "# Appliquer une fonction sur chaque colonne\n",
    "apply(ma_matrice2, 2, sum)"
   ]
  },
  {
   "cell_type": "markdown",
   "metadata": {},
   "source": [
    "<div class=\"alert alert-block alert-info\">\n",
    "    <b>À retenir :</b>\n",
    "    <ul>\n",
    "        <li>Créer une matrice avec la fonction <code>matrix()</code></li>\n",
    "        <li>Sélectionner des éléments d'une matrice avec l'opérateur <code>[]</code> et une virgule au milieu pour séparer lignes et colonnes</li>\n",
    "        <li>Les éléments d'une matrice sont tous d'un même type</li>\n",
    "        <li>Repérer le produit terme à terme et le produit matriciel</li>\n",
    "    </ul>\n",
    "</div>"
   ]
  },
  {
   "cell_type": "markdown",
   "metadata": {},
   "source": [
    "#### Data frame"
   ]
  },
  {
   "cell_type": "code",
   "execution_count": 50,
   "metadata": {
    "vscode": {
     "languageId": "r"
    }
   },
   "outputs": [
    {
     "name": "stdout",
     "output_type": "stream",
     "text": [
      "     taille    masse sexe\n",
      "1  172.2603 68.69841    M\n",
      "2  172.1508 57.95959    F\n",
      "3  162.1418 62.59109    F\n",
      "4  154.6963 61.39679    M\n",
      "5  155.6715 58.91111    M\n",
      "6  178.1391 70.18956    F\n",
      "7  151.9744 61.05666    F\n",
      "8  152.8557 59.62110    M\n",
      "9  173.5033 83.28662    M\n",
      "10 154.0523 82.58703    F\n",
      "11 158.9724 64.25735    F\n",
      "12 170.0347 86.58561    M\n"
     ]
    },
    {
     "name": "stdout",
     "output_type": "stream",
     "text": [
      "Dimension du data frame : 12 3"
     ]
    }
   ],
   "source": [
    "# Quelques vecteurs\n",
    "taille = runif(12, 150, 180)\n",
    "masse = runif(12, 50, 90)\n",
    "sexe = rep(c(\"M\", \"F\", \"F\", \"M\"), 3)\n",
    "# Premier data frame\n",
    "mes_donnees = data.frame(taille, masse, sexe)\n",
    "print(mes_donnees)\n",
    "cat(\"Dimension du data frame :\", dim(mes_donnees))"
   ]
  },
  {
   "cell_type": "code",
   "execution_count": 49,
   "metadata": {
    "vscode": {
     "languageId": "r"
    }
   },
   "outputs": [
    {
     "data": {
      "text/plain": [
       "     taille          masse           sexe          \n",
       " Min.   :152.5   Min.   :53.90   Length:12         \n",
       " 1st Qu.:161.9   1st Qu.:64.76   Class :character  \n",
       " Median :170.5   Median :76.52   Mode  :character  \n",
       " Mean   :168.5   Mean   :73.52                     \n",
       " 3rd Qu.:174.7   3rd Qu.:81.91                     \n",
       " Max.   :179.5   Max.   :88.87                     "
      ]
     },
     "metadata": {},
     "output_type": "display_data"
    }
   ],
   "source": [
    "# Résumé des données\n",
    "summary(mes_donnees)"
   ]
  },
  {
   "cell_type": "code",
   "execution_count": 51,
   "metadata": {
    "vscode": {
     "languageId": "r"
    }
   },
   "outputs": [
    {
     "data": {
      "text/html": [
       "<style>\n",
       ".list-inline {list-style: none; margin:0; padding: 0}\n",
       ".list-inline>li {display: inline-block}\n",
       ".list-inline>li:not(:last-child)::after {content: \"\\00b7\"; padding: 0 .5ex}\n",
       "</style>\n",
       "<ol class=list-inline><li>172.26033982588</li><li>172.150774521288</li><li>162.141811216716</li><li>154.696266702376</li><li>155.671481837053</li><li>178.139073809143</li><li>151.974378805608</li><li>152.855741176754</li><li>173.503280226141</li><li>154.052311812993</li><li>158.972367122769</li><li>170.034705426078</li></ol>\n"
      ],
      "text/latex": [
       "\\begin{enumerate*}\n",
       "\\item 172.26033982588\n",
       "\\item 172.150774521288\n",
       "\\item 162.141811216716\n",
       "\\item 154.696266702376\n",
       "\\item 155.671481837053\n",
       "\\item 178.139073809143\n",
       "\\item 151.974378805608\n",
       "\\item 152.855741176754\n",
       "\\item 173.503280226141\n",
       "\\item 154.052311812993\n",
       "\\item 158.972367122769\n",
       "\\item 170.034705426078\n",
       "\\end{enumerate*}\n"
      ],
      "text/markdown": [
       "1. 172.26033982588\n",
       "2. 172.150774521288\n",
       "3. 162.141811216716\n",
       "4. 154.696266702376\n",
       "5. 155.671481837053\n",
       "6. 178.139073809143\n",
       "7. 151.974378805608\n",
       "8. 152.855741176754\n",
       "9. 173.503280226141\n",
       "10. 154.052311812993\n",
       "11. 158.972367122769\n",
       "12. 170.034705426078\n",
       "\n",
       "\n"
      ],
      "text/plain": [
       " [1] 172.2603 172.1508 162.1418 154.6963 155.6715 178.1391 151.9744 152.8557\n",
       " [9] 173.5033 154.0523 158.9724 170.0347"
      ]
     },
     "metadata": {},
     "output_type": "display_data"
    }
   ],
   "source": [
    "# Accès par la position\n",
    "mes_donnees[,1]"
   ]
  },
  {
   "cell_type": "code",
   "execution_count": 52,
   "metadata": {
    "vscode": {
     "languageId": "r"
    }
   },
   "outputs": [
    {
     "data": {
      "text/html": [
       "<table class=\"dataframe\">\n",
       "<caption>A data.frame: 4 × 3</caption>\n",
       "<thead>\n",
       "\t<tr><th></th><th scope=col>taille</th><th scope=col>masse</th><th scope=col>sexe</th></tr>\n",
       "\t<tr><th></th><th scope=col>&lt;dbl&gt;</th><th scope=col>&lt;dbl&gt;</th><th scope=col>&lt;chr&gt;</th></tr>\n",
       "</thead>\n",
       "<tbody>\n",
       "\t<tr><th scope=row>1</th><td>172.2603</td><td>68.69841</td><td>M</td></tr>\n",
       "\t<tr><th scope=row>2</th><td>172.1508</td><td>57.95959</td><td>F</td></tr>\n",
       "\t<tr><th scope=row>3</th><td>162.1418</td><td>62.59109</td><td>F</td></tr>\n",
       "\t<tr><th scope=row>4</th><td>154.6963</td><td>61.39679</td><td>M</td></tr>\n",
       "</tbody>\n",
       "</table>\n"
      ],
      "text/latex": [
       "A data.frame: 4 × 3\n",
       "\\begin{tabular}{r|lll}\n",
       "  & taille & masse & sexe\\\\\n",
       "  & <dbl> & <dbl> & <chr>\\\\\n",
       "\\hline\n",
       "\t1 & 172.2603 & 68.69841 & M\\\\\n",
       "\t2 & 172.1508 & 57.95959 & F\\\\\n",
       "\t3 & 162.1418 & 62.59109 & F\\\\\n",
       "\t4 & 154.6963 & 61.39679 & M\\\\\n",
       "\\end{tabular}\n"
      ],
      "text/markdown": [
       "\n",
       "A data.frame: 4 × 3\n",
       "\n",
       "| <!--/--> | taille &lt;dbl&gt; | masse &lt;dbl&gt; | sexe &lt;chr&gt; |\n",
       "|---|---|---|---|\n",
       "| 1 | 172.2603 | 68.69841 | M |\n",
       "| 2 | 172.1508 | 57.95959 | F |\n",
       "| 3 | 162.1418 | 62.59109 | F |\n",
       "| 4 | 154.6963 | 61.39679 | M |\n",
       "\n"
      ],
      "text/plain": [
       "  taille   masse    sexe\n",
       "1 172.2603 68.69841 M   \n",
       "2 172.1508 57.95959 F   \n",
       "3 162.1418 62.59109 F   \n",
       "4 154.6963 61.39679 M   "
      ]
     },
     "metadata": {},
     "output_type": "display_data"
    }
   ],
   "source": [
    "# Accès par tranche\n",
    "mes_donnees[1:4,]"
   ]
  },
  {
   "cell_type": "code",
   "execution_count": 53,
   "metadata": {
    "vscode": {
     "languageId": "r"
    }
   },
   "outputs": [
    {
     "data": {
      "text/html": [
       "<style>\n",
       ".list-inline {list-style: none; margin:0; padding: 0}\n",
       ".list-inline>li {display: inline-block}\n",
       ".list-inline>li:not(:last-child)::after {content: \"\\00b7\"; padding: 0 .5ex}\n",
       "</style>\n",
       "<ol class=list-inline><li>172.26033982588</li><li>172.150774521288</li><li>162.141811216716</li><li>154.696266702376</li><li>155.671481837053</li><li>178.139073809143</li><li>151.974378805608</li><li>152.855741176754</li><li>173.503280226141</li><li>154.052311812993</li><li>158.972367122769</li><li>170.034705426078</li></ol>\n"
      ],
      "text/latex": [
       "\\begin{enumerate*}\n",
       "\\item 172.26033982588\n",
       "\\item 172.150774521288\n",
       "\\item 162.141811216716\n",
       "\\item 154.696266702376\n",
       "\\item 155.671481837053\n",
       "\\item 178.139073809143\n",
       "\\item 151.974378805608\n",
       "\\item 152.855741176754\n",
       "\\item 173.503280226141\n",
       "\\item 154.052311812993\n",
       "\\item 158.972367122769\n",
       "\\item 170.034705426078\n",
       "\\end{enumerate*}\n"
      ],
      "text/markdown": [
       "1. 172.26033982588\n",
       "2. 172.150774521288\n",
       "3. 162.141811216716\n",
       "4. 154.696266702376\n",
       "5. 155.671481837053\n",
       "6. 178.139073809143\n",
       "7. 151.974378805608\n",
       "8. 152.855741176754\n",
       "9. 173.503280226141\n",
       "10. 154.052311812993\n",
       "11. 158.972367122769\n",
       "12. 170.034705426078\n",
       "\n",
       "\n"
      ],
      "text/plain": [
       " [1] 172.2603 172.1508 162.1418 154.6963 155.6715 178.1391 151.9744 152.8557\n",
       " [9] 173.5033 154.0523 158.9724 170.0347"
      ]
     },
     "metadata": {},
     "output_type": "display_data"
    }
   ],
   "source": [
    "# Accès par nom de variable (i.e. colonne)\n",
    "mes_donnees$taille"
   ]
  },
  {
   "cell_type": "markdown",
   "metadata": {},
   "source": [
    "<div class=\"alert alert-block alert-info\">\n",
    "    <b>À retenir :</b>\n",
    "    <ul>\n",
    "        <li>Les colonnes d'un data frame peuvent être de types différents</li>\n",
    "        <li>Sélectionner des éléments d'un data frame comme pour une matrice</li>\n",
    "        <li>Sélectionner une variable (<i>i.e.</i> une colonne) par l'opérateur <code>&dollar;</code></li>\n",
    "    </ul>\n",
    "</div>"
   ]
  },
  {
   "cell_type": "markdown",
   "metadata": {},
   "source": [
    "### 1.2 Espace de travail"
   ]
  },
  {
   "cell_type": "code",
   "execution_count": 54,
   "metadata": {
    "vscode": {
     "languageId": "r"
    }
   },
   "outputs": [
    {
     "data": {
      "text/html": [
       "<style>\n",
       ".list-inline {list-style: none; margin:0; padding: 0}\n",
       ".list-inline>li {display: inline-block}\n",
       ".list-inline>li:not(:last-child)::after {content: \"\\00b7\"; padding: 0 .5ex}\n",
       "</style>\n",
       "<ol class=list-inline><li>'autre_vecteur'</li><li>'elem2'</li><li>'encore_un_autre'</li><li>'filtre'</li><li>'ma_matrice'</li><li>'ma_matrice2'</li><li>'masse'</li><li>'mes_donnees'</li><li>'mon_vecteur'</li><li>'mon_vecteur_filtre'</li><li>'nom'</li><li>'sexe'</li><li>'taille'</li><li>'un_dernier'</li></ol>\n"
      ],
      "text/latex": [
       "\\begin{enumerate*}\n",
       "\\item 'autre\\_vecteur'\n",
       "\\item 'elem2'\n",
       "\\item 'encore\\_un\\_autre'\n",
       "\\item 'filtre'\n",
       "\\item 'ma\\_matrice'\n",
       "\\item 'ma\\_matrice2'\n",
       "\\item 'masse'\n",
       "\\item 'mes\\_donnees'\n",
       "\\item 'mon\\_vecteur'\n",
       "\\item 'mon\\_vecteur\\_filtre'\n",
       "\\item 'nom'\n",
       "\\item 'sexe'\n",
       "\\item 'taille'\n",
       "\\item 'un\\_dernier'\n",
       "\\end{enumerate*}\n"
      ],
      "text/markdown": [
       "1. 'autre_vecteur'\n",
       "2. 'elem2'\n",
       "3. 'encore_un_autre'\n",
       "4. 'filtre'\n",
       "5. 'ma_matrice'\n",
       "6. 'ma_matrice2'\n",
       "7. 'masse'\n",
       "8. 'mes_donnees'\n",
       "9. 'mon_vecteur'\n",
       "10. 'mon_vecteur_filtre'\n",
       "11. 'nom'\n",
       "12. 'sexe'\n",
       "13. 'taille'\n",
       "14. 'un_dernier'\n",
       "\n",
       "\n"
      ],
      "text/plain": [
       " [1] \"autre_vecteur\"      \"elem2\"              \"encore_un_autre\"   \n",
       " [4] \"filtre\"             \"ma_matrice\"         \"ma_matrice2\"       \n",
       " [7] \"masse\"              \"mes_donnees\"        \"mon_vecteur\"       \n",
       "[10] \"mon_vecteur_filtre\" \"nom\"                \"sexe\"              \n",
       "[13] \"taille\"             \"un_dernier\"        "
      ]
     },
     "metadata": {},
     "output_type": "display_data"
    }
   ],
   "source": [
    "# Liste des variables définies\n",
    "ls()"
   ]
  },
  {
   "cell_type": "code",
   "execution_count": 55,
   "metadata": {
    "vscode": {
     "languageId": "r"
    }
   },
   "outputs": [
    {
     "data": {
      "text/html": [
       "'/home/alexandre-tonon/SDD/FSD310/statistics/seance_08_09_25'"
      ],
      "text/latex": [
       "'/home/alexandre-tonon/SDD/FSD310/statistics/seance\\_08\\_09\\_25'"
      ],
      "text/markdown": [
       "'/home/alexandre-tonon/SDD/FSD310/statistics/seance_08_09_25'"
      ],
      "text/plain": [
       "[1] \"/home/alexandre-tonon/SDD/FSD310/statistics/seance_08_09_25\""
      ]
     },
     "metadata": {},
     "output_type": "display_data"
    }
   ],
   "source": [
    "# Chemin du dossier courant (working directory)\n",
    "getwd()"
   ]
  },
  {
   "cell_type": "code",
   "execution_count": 56,
   "metadata": {
    "vscode": {
     "languageId": "r"
    }
   },
   "outputs": [],
   "source": [
    "# Création d'un dossier dans le dossier courant\n",
    "dir.create(\"mon_dossier\")"
   ]
  },
  {
   "cell_type": "code",
   "execution_count": 59,
   "metadata": {
    "vscode": {
     "languageId": "r"
    }
   },
   "outputs": [
    {
     "data": {
      "text/html": [
       "<style>\n",
       ".list-inline {list-style: none; margin:0; padding: 0}\n",
       ".list-inline>li {display: inline-block}\n",
       ".list-inline>li:not(:last-child)::after {content: \"\\00b7\"; padding: 0 .5ex}\n",
       "</style>\n",
       "<ol class=list-inline><li>'C_1_stats_intro.pdf'</li><li>'mon_dossier'</li><li>'TP1_init_R.ipynb'</li></ol>\n"
      ],
      "text/latex": [
       "\\begin{enumerate*}\n",
       "\\item 'C\\_1\\_stats\\_intro.pdf'\n",
       "\\item 'mon\\_dossier'\n",
       "\\item 'TP1\\_init\\_R.ipynb'\n",
       "\\end{enumerate*}\n"
      ],
      "text/markdown": [
       "1. 'C_1_stats_intro.pdf'\n",
       "2. 'mon_dossier'\n",
       "3. 'TP1_init_R.ipynb'\n",
       "\n",
       "\n"
      ],
      "text/plain": [
       "[1] \"C_1_stats_intro.pdf\" \"mon_dossier\"         \"TP1_init_R.ipynb\"   "
      ]
     },
     "metadata": {},
     "output_type": "display_data"
    }
   ],
   "source": [
    "# Contenu du dossier courant\n",
    "dir()"
   ]
  },
  {
   "cell_type": "code",
   "execution_count": 60,
   "metadata": {
    "vscode": {
     "languageId": "r"
    }
   },
   "outputs": [
    {
     "ename": "ERROR",
     "evalue": "Error in library(corrplot): aucun package nommé ‘corrplot’ n'est trouvé\n",
     "output_type": "error",
     "traceback": [
      "Error in library(corrplot): aucun package nommé ‘corrplot’ n'est trouvé\nTraceback:\n",
      "1. stop(packageNotFoundError(package, lib.loc, sys.call()))"
     ]
    }
   ],
   "source": [
    "# Charger un package\n",
    "library(corrplot)"
   ]
  },
  {
   "cell_type": "markdown",
   "metadata": {},
   "source": [
    "<div class=\"alert alert-block alert-info\">\n",
    "    <b>À retenir :</b>\n",
    "    <ul>\n",
    "        <li>Dans une session R, seuls les objets définis sont accessibles</li>\n",
    "        <li>Le <i>working directory</i> est le dossier courant où les fichiers et dossiers sont recherchés et créés par défaut</li>\n",
    "        <li>Les packages se chargent avec <code>library()</code></li>\n",
    "    </ul>\n",
    "</div>"
   ]
  },
  {
   "cell_type": "markdown",
   "metadata": {},
   "source": [
    "### 1.3 À l'aide !"
   ]
  },
  {
   "cell_type": "code",
   "execution_count": 61,
   "metadata": {
    "vscode": {
     "languageId": "r"
    }
   },
   "outputs": [
    {
     "name": "stdout",
     "output_type": "stream",
     "text": [
      "seq                    package:base                    R Documentation\n",
      "\n",
      "_\bS_\be_\bq_\bu_\be_\bn_\bc_\be _\bG_\be_\bn_\be_\br_\ba_\bt_\bi_\bo_\bn\n",
      "\n",
      "_\bD_\be_\bs_\bc_\br_\bi_\bp_\bt_\bi_\bo_\bn:\n",
      "\n",
      "     Generate regular sequences.  ‘seq’ is a standard generic with a\n",
      "     default method.  ‘seq.int’ is a primitive which can be much faster\n",
      "     but has a few restrictions.  ‘seq_along’ and ‘seq_len’ are very\n",
      "     fast primitives for two common cases.\n",
      "\n",
      "_\bU_\bs_\ba_\bg_\be:\n",
      "\n",
      "     seq(...)\n",
      "     \n",
      "     ## Default S3 method:\n",
      "     seq(from = 1, to = 1, by = ((to - from)/(length.out - 1)),\n",
      "         length.out = NULL, along.with = NULL, ...)\n",
      "     \n",
      "     seq.int(from, to, by, length.out, along.with, ...)\n",
      "     \n",
      "     seq_along(along.with)\n",
      "     seq_len(length.out)\n",
      "     \n",
      "_\bA_\br_\bg_\bu_\bm_\be_\bn_\bt_\bs:\n",
      "\n",
      "     ...: arguments passed to or from methods.\n",
      "\n",
      "from, to: the starting and (maximal) end values of the sequence.  Of\n",
      "          length ‘1’ unless just ‘from’ is supplied as an unnamed\n",
      "          argument.\n",
      "\n",
      "      by: number: increment of the sequence.\n",
      "\n",
      "length.out: desired length of the sequence.  A non-negative number,\n",
      "          which for ‘seq’ and ‘seq.int’ will be rounded up if\n",
      "          fractional.\n",
      "\n",
      "along.with: take the length from the length of this argument.\n",
      "\n",
      "_\bD_\be_\bt_\ba_\bi_\bl_\bs:\n",
      "\n",
      "     Numerical inputs should all be finite (that is, not infinite,\n",
      "     ‘NaN’ or ‘NA’).\n",
      "\n",
      "     The interpretation of the unnamed arguments of ‘seq’ and ‘seq.int’\n",
      "     is _not_ standard, and it is recommended always to name the\n",
      "     arguments when programming.\n",
      "\n",
      "     ‘seq’ is generic, and only the default method is described here.\n",
      "     Note that it dispatches on the class of the *first* argument\n",
      "     irrespective of argument names.  This can have unintended\n",
      "     consequences if it is called with just one argument intending this\n",
      "     to be taken as ‘along.with’: it is much better to use ‘seq_along’\n",
      "     in that case.\n",
      "\n",
      "     ‘seq.int’ is an internal generic which dispatches on methods for\n",
      "     ‘\"seq\"’ based on the class of the first supplied argument (before\n",
      "     argument matching).\n",
      "\n",
      "     Typical usages are\n",
      "\n",
      "     seq(from, to)\n",
      "     seq(from, to, by= )\n",
      "     seq(from, to, length.out= )\n",
      "     seq(along.with= )\n",
      "     seq(from)\n",
      "     seq(length.out= )\n",
      "     \n",
      "     The first form generates the sequence ‘from, from+/-1, ..., to’\n",
      "     (identical to ‘from:to’).\n",
      "\n",
      "     The second form generates ‘from, from+by’, ..., up to the sequence\n",
      "     value less than or equal to ‘to’.  Specifying ‘to - from’ and ‘by’\n",
      "     of opposite signs is an error.  Note that the computed final value\n",
      "     can go just beyond ‘to’ to allow for rounding error, but is\n",
      "     truncated to ‘to’.  (‘Just beyond’ is by up to 1e-10 times\n",
      "     ‘abs(from - to)’.)\n",
      "\n",
      "     The third generates a sequence of ‘length.out’ equally spaced\n",
      "     values from ‘from’ to ‘to’.  (‘length.out’ is usually abbreviated\n",
      "     to ‘length’ or ‘len’, and ‘seq_len’ is much faster.)\n",
      "\n",
      "     The fourth form generates the integer sequence ‘1, 2, ...,\n",
      "     length(along.with)’.  (‘along.with’ is usually abbreviated to\n",
      "     ‘along’, and ‘seq_along’ is much faster.)\n",
      "\n",
      "     The fifth form generates the sequence ‘1, 2, ..., length(from)’\n",
      "     (as if argument ‘along.with’ had been specified), _unless_ the\n",
      "     argument is numeric of length 1 when it is interpreted as ‘1:from’\n",
      "     (even for ‘seq(0)’ for compatibility with S).  Using either\n",
      "     ‘seq_along’ or ‘seq_len’ is much preferred (unless strict S\n",
      "     compatibility is essential).\n",
      "\n",
      "     The final form generates the integer sequence ‘1, 2, ...,\n",
      "     length.out’ unless ‘length.out = 0’, when it generates\n",
      "     ‘integer(0)’.\n",
      "\n",
      "     Very small sequences (with ‘from - to’ of the order of 10^{-14}\n",
      "     times the larger of the ends) will return ‘from’.\n",
      "\n",
      "     For ‘seq’ (only), up to two of ‘from’, ‘to’ and ‘by’ can be\n",
      "     supplied as complex values provided ‘length.out’ or ‘along.with’\n",
      "     is specified.  More generally, the default method of ‘seq’ will\n",
      "     handle classed objects with methods for the ‘Math’, ‘Ops’ and\n",
      "     ‘Summary’ group generics.\n",
      "\n",
      "     ‘seq.int’, ‘seq_along’ and ‘seq_len’ are primitive.\n",
      "\n",
      "_\bV_\ba_\bl_\bu_\be:\n",
      "\n",
      "     ‘seq.int’ and the default method of ‘seq’ for numeric arguments\n",
      "     return a vector of type ‘\"integer\"’ or ‘\"double\"’: programmers\n",
      "     should not rely on which.\n",
      "\n",
      "     ‘seq_along’ and ‘seq_len’ return an integer vector, unless it is a\n",
      "     _long vector_ when it will be double.\n",
      "\n",
      "_\bR_\be_\bf_\be_\br_\be_\bn_\bc_\be_\bs:\n",
      "\n",
      "     Becker, R. A., Chambers, J. M. and Wilks, A. R. (1988) _The New S\n",
      "     Language_.  Wadsworth & Brooks/Cole.\n",
      "\n",
      "_\bS_\be_\be _\bA_\bl_\bs_\bo:\n",
      "\n",
      "     The methods ‘seq.Date’ and ‘seq.POSIXt’.\n",
      "\n",
      "     ‘:’, ‘rep’, ‘sequence’, ‘row’, ‘col’.\n",
      "\n",
      "_\bE_\bx_\ba_\bm_\bp_\bl_\be_\bs:\n",
      "\n",
      "     seq(0, 1, length.out = 11)\n",
      "     seq(stats::rnorm(20)) # effectively 'along'\n",
      "     seq(1, 9, by = 2)     # matches 'end'\n",
      "     seq(1, 9, by = pi)    # stays below 'end'\n",
      "     seq(1, 6, by = 3)\n",
      "     seq(1.575, 5.125, by = 0.05)\n",
      "     seq(17) # same as 1:17, or even better seq_len(17)\n",
      "     "
     ]
    }
   ],
   "source": [
    "# Affiche une page d'aide\n",
    "help(seq)"
   ]
  },
  {
   "cell_type": "code",
   "execution_count": 62,
   "metadata": {
    "vscode": {
     "languageId": "r"
    }
   },
   "outputs": [
    {
     "name": "stdout",
     "output_type": "stream",
     "text": [
      "seq                    package:base                    R Documentation\n",
      "\n",
      "_\bS_\be_\bq_\bu_\be_\bn_\bc_\be _\bG_\be_\bn_\be_\br_\ba_\bt_\bi_\bo_\bn\n",
      "\n",
      "_\bD_\be_\bs_\bc_\br_\bi_\bp_\bt_\bi_\bo_\bn:\n",
      "\n",
      "     Generate regular sequences.  ‘seq’ is a standard generic with a\n",
      "     default method.  ‘seq.int’ is a primitive which can be much faster\n",
      "     but has a few restrictions.  ‘seq_along’ and ‘seq_len’ are very\n",
      "     fast primitives for two common cases.\n",
      "\n",
      "_\bU_\bs_\ba_\bg_\be:\n",
      "\n",
      "     seq(...)\n",
      "     \n",
      "     ## Default S3 method:\n",
      "     seq(from = 1, to = 1, by = ((to - from)/(length.out - 1)),\n",
      "         length.out = NULL, along.with = NULL, ...)\n",
      "     \n",
      "     seq.int(from, to, by, length.out, along.with, ...)\n",
      "     \n",
      "     seq_along(along.with)\n",
      "     seq_len(length.out)\n",
      "     \n",
      "_\bA_\br_\bg_\bu_\bm_\be_\bn_\bt_\bs:\n",
      "\n",
      "     ...: arguments passed to or from methods.\n",
      "\n",
      "from, to: the starting and (maximal) end values of the sequence.  Of\n",
      "          length ‘1’ unless just ‘from’ is supplied as an unnamed\n",
      "          argument.\n",
      "\n",
      "      by: number: increment of the sequence.\n",
      "\n",
      "length.out: desired length of the sequence.  A non-negative number,\n",
      "          which for ‘seq’ and ‘seq.int’ will be rounded up if\n",
      "          fractional.\n",
      "\n",
      "along.with: take the length from the length of this argument.\n",
      "\n",
      "_\bD_\be_\bt_\ba_\bi_\bl_\bs:\n",
      "\n",
      "     Numerical inputs should all be finite (that is, not infinite,\n",
      "     ‘NaN’ or ‘NA’).\n",
      "\n",
      "     The interpretation of the unnamed arguments of ‘seq’ and ‘seq.int’\n",
      "     is _not_ standard, and it is recommended always to name the\n",
      "     arguments when programming.\n",
      "\n",
      "     ‘seq’ is generic, and only the default method is described here.\n",
      "     Note that it dispatches on the class of the *first* argument\n",
      "     irrespective of argument names.  This can have unintended\n",
      "     consequences if it is called with just one argument intending this\n",
      "     to be taken as ‘along.with’: it is much better to use ‘seq_along’\n",
      "     in that case.\n",
      "\n",
      "     ‘seq.int’ is an internal generic which dispatches on methods for\n",
      "     ‘\"seq\"’ based on the class of the first supplied argument (before\n",
      "     argument matching).\n",
      "\n",
      "     Typical usages are\n",
      "\n",
      "     seq(from, to)\n",
      "     seq(from, to, by= )\n",
      "     seq(from, to, length.out= )\n",
      "     seq(along.with= )\n",
      "     seq(from)\n",
      "     seq(length.out= )\n",
      "     \n",
      "     The first form generates the sequence ‘from, from+/-1, ..., to’\n",
      "     (identical to ‘from:to’).\n",
      "\n",
      "     The second form generates ‘from, from+by’, ..., up to the sequence\n",
      "     value less than or equal to ‘to’.  Specifying ‘to - from’ and ‘by’\n",
      "     of opposite signs is an error.  Note that the computed final value\n",
      "     can go just beyond ‘to’ to allow for rounding error, but is\n",
      "     truncated to ‘to’.  (‘Just beyond’ is by up to 1e-10 times\n",
      "     ‘abs(from - to)’.)\n",
      "\n",
      "     The third generates a sequence of ‘length.out’ equally spaced\n",
      "     values from ‘from’ to ‘to’.  (‘length.out’ is usually abbreviated\n",
      "     to ‘length’ or ‘len’, and ‘seq_len’ is much faster.)\n",
      "\n",
      "     The fourth form generates the integer sequence ‘1, 2, ...,\n",
      "     length(along.with)’.  (‘along.with’ is usually abbreviated to\n",
      "     ‘along’, and ‘seq_along’ is much faster.)\n",
      "\n",
      "     The fifth form generates the sequence ‘1, 2, ..., length(from)’\n",
      "     (as if argument ‘along.with’ had been specified), _unless_ the\n",
      "     argument is numeric of length 1 when it is interpreted as ‘1:from’\n",
      "     (even for ‘seq(0)’ for compatibility with S).  Using either\n",
      "     ‘seq_along’ or ‘seq_len’ is much preferred (unless strict S\n",
      "     compatibility is essential).\n",
      "\n",
      "     The final form generates the integer sequence ‘1, 2, ...,\n",
      "     length.out’ unless ‘length.out = 0’, when it generates\n",
      "     ‘integer(0)’.\n",
      "\n",
      "     Very small sequences (with ‘from - to’ of the order of 10^{-14}\n",
      "     times the larger of the ends) will return ‘from’.\n",
      "\n",
      "     For ‘seq’ (only), up to two of ‘from’, ‘to’ and ‘by’ can be\n",
      "     supplied as complex values provided ‘length.out’ or ‘along.with’\n",
      "     is specified.  More generally, the default method of ‘seq’ will\n",
      "     handle classed objects with methods for the ‘Math’, ‘Ops’ and\n",
      "     ‘Summary’ group generics.\n",
      "\n",
      "     ‘seq.int’, ‘seq_along’ and ‘seq_len’ are primitive.\n",
      "\n",
      "_\bV_\ba_\bl_\bu_\be:\n",
      "\n",
      "     ‘seq.int’ and the default method of ‘seq’ for numeric arguments\n",
      "     return a vector of type ‘\"integer\"’ or ‘\"double\"’: programmers\n",
      "     should not rely on which.\n",
      "\n",
      "     ‘seq_along’ and ‘seq_len’ return an integer vector, unless it is a\n",
      "     _long vector_ when it will be double.\n",
      "\n",
      "_\bR_\be_\bf_\be_\br_\be_\bn_\bc_\be_\bs:\n",
      "\n",
      "     Becker, R. A., Chambers, J. M. and Wilks, A. R. (1988) _The New S\n",
      "     Language_.  Wadsworth & Brooks/Cole.\n",
      "\n",
      "_\bS_\be_\be _\bA_\bl_\bs_\bo:\n",
      "\n",
      "     The methods ‘seq.Date’ and ‘seq.POSIXt’.\n",
      "\n",
      "     ‘:’, ‘rep’, ‘sequence’, ‘row’, ‘col’.\n",
      "\n",
      "_\bE_\bx_\ba_\bm_\bp_\bl_\be_\bs:\n",
      "\n",
      "     seq(0, 1, length.out = 11)\n",
      "     seq(stats::rnorm(20)) # effectively 'along'\n",
      "     seq(1, 9, by = 2)     # matches 'end'\n",
      "     seq(1, 9, by = pi)    # stays below 'end'\n",
      "     seq(1, 6, by = 3)\n",
      "     seq(1.575, 5.125, by = 0.05)\n",
      "     seq(17) # same as 1:17, or even better seq_len(17)\n",
      "     "
     ]
    }
   ],
   "source": [
    "# Raccourci pour la fonction help\n",
    "?seq"
   ]
  },
  {
   "cell_type": "code",
   "execution_count": 63,
   "metadata": {
    "vscode": {
     "languageId": "r"
    }
   },
   "outputs": [
    {
     "name": "stdout",
     "output_type": "stream",
     "text": [
      "R Information\n",
      "\n",
      "Vignettes with name or keyword or title matching ‘plot’ using regular\n",
      "expression matching:\n",
      "\n",
      "\n",
      "grid::plotexample       Writing grid Code\n",
      "survival::splines       Splines, plots, and interactions\n",
      "\n",
      "\n",
      "Type 'vignette(\"FOO\", package=\"PKG\")' to inspect entries 'PKG::FOO'.\n",
      "\n",
      "\n",
      "\n",
      "Demos with name or title matching ‘plot’ using regular expression\n",
      "matching:\n",
      "\n",
      "\n",
      "graphics::plotmath      Examples of the use of mathematics annotation\n",
      "tcltk::tkcanvas         Creates a canvas widget showing a 2-D plot with\n",
      "                        data points that can be dragged with the mouse.\n",
      "tcltk::tkdensity        Interactive density plots.\n",
      "\n",
      "\n",
      "Type 'demo(PKG::FOO)' to run demonstration 'PKG::FOO'.\n",
      "\n",
      "\n",
      "\n",
      "Help files with alias or concept or title matching ‘plot’ using regular\n",
      "expression matching:\n",
      "\n",
      "\n",
      "base::base-defunct      Defunct Functions in Package 'base'\n",
      "  Aliases: print.plot, save.plot\n",
      "base::expression        Unevaluated Expressions\n",
      "  Concepts: Computations Related to Plotting\n",
      "base::jitter            'Jitter' (Add Noise) to Numbers\n",
      "  Concepts: Computations Related to Plotting\n",
      "base::plot              Generic X-Y Plotting\n",
      "  Aliases: plot\n",
      "  Concepts: High-Level Plots\n",
      "base::pretty            Pretty Breakpoints\n",
      "  Concepts: Computations Related to Plotting\n",
      "boot::envelope          Confidence Envelopes for Curves\n",
      "  Concepts: Computations Related to Plotting\n",
      "boot::glm.diag          Generalized Linear Model Diagnostics\n",
      "  Concepts: Computations Related to Plotting\n",
      "boot::glm.diag.plots    Diagnostics plots for generalized linear models\n",
      "  Aliases: glm.diag.plots\n",
      "  Concepts: Computations Related to Plotting, High-Level Plots\n",
      "boot::jack.after.boot   Jackknife-after-Bootstrap Plots\n",
      "  Concepts: High-Level Plots\n",
      "boot::lines.saddle.distn\n",
      "                        Add a Saddlepoint Approximation to a Plot\n",
      "  Concepts: Add to Existing Plot / internal plot\n",
      "boot::plot.boot         Plots of the Output of a Bootstrap Simulation\n",
      "  Aliases: plot.boot\n",
      "  Concepts: High-Level Plots\n",
      "boot::saddle.distn      Saddlepoint Distribution Approximations for\n",
      "                        Bootstrap Statistics\n",
      "  Concepts: Computations Related to Plotting\n",
      "class::somgrid          Plot SOM Fits\n",
      "  Aliases: plot.somgrid, plot.SOM\n",
      "cluster::bannerplot     Plot Banner (of Hierarchical Clustering)\n",
      "  Aliases: bannerplot\n",
      "  Concepts: High-Level Plots\n",
      "cluster::clusGap        Gap Statistic for Estimating the Number of\n",
      "                        Clusters\n",
      "  Aliases: plot.clusGap\n",
      "cluster::clusplot       Bivariate Cluster Plot (of a Partitioning\n",
      "                        Object)\n",
      "  Aliases: clusplot, clusplot.partition\n",
      "  Concepts: High-Level Plots\n",
      "cluster::clusplot.default\n",
      "                        Bivariate Cluster Plot (clusplot) Default\n",
      "                        Method\n",
      "  Aliases: clusplot.default\n",
      "  Concepts: High-Level Plots\n",
      "cluster::ellipsoidhull\n",
      "                        Compute the Ellipsoid Hull or Spanning\n",
      "                        Ellipsoid of a Point Set\n",
      "  Concepts: Computations Related to Plotting, High-Level Plots\n",
      "cluster::plot.agnes     Plots of an Agglomerative Hierarchical\n",
      "                        Clustering\n",
      "  Aliases: plot.agnes\n",
      "  Concepts: High-Level Plots\n",
      "cluster::plot.diana     Plots of a Divisive Hierarchical Clustering\n",
      "  Aliases: plot.diana\n",
      "  Concepts: High-Level Plots\n",
      "cluster::plot.mona      Banner of Monothetic Divisive Hierarchical\n",
      "                        Clusterings\n",
      "  Aliases: plot.mona\n",
      "  Concepts: High-Level Plots\n",
      "cluster::plot.partition\n",
      "                        Plot of a Partition of the Data Set\n",
      "  Aliases: plot.partition\n",
      "  Concepts: High-Level Plots\n",
      "cluster::pltree         Plot Clustering Tree of a Hierarchical\n",
      "                        Clustering\n",
      "  Concepts: High-Level Plots\n",
      "cluster::predict.ellipsoid\n",
      "                        Predict Method for Ellipsoid Objects\n",
      "  Concepts: Computations Related to Plotting\n",
      "cluster::silhouette     Compute or Extract Silhouette Information from\n",
      "                        Clustering\n",
      "  Aliases: plot.silhouette\n",
      "downlit::is_low_change\n",
      "                        Compare two recorded plots\n",
      "evaluate::is.message    Object class tests\n",
      "  Aliases: is.recordedplot\n",
      "evaluate::trim_intermediate_plots\n",
      "                        Trim away intermediate plots\n",
      "  Aliases: trim_intermediate_plots\n",
      "graphics::abline        Add Straight Lines to a Plot\n",
      "  Concepts: Add to Existing Plot / internal plot\n",
      "graphics::arrows        Add Arrows to a Plot\n",
      "  Concepts: Add to Existing Plot / internal plot\n",
      "graphics::assocplot     Association Plots\n",
      "  Aliases: assocplot\n",
      "  Concepts: High-Level Plots\n",
      "graphics::axis          Add an Axis to a Plot\n",
      "  Concepts: Add to Existing Plot / internal plot\n",
      "graphics::Axis          Generic Function to Add an Axis to a Plot\n",
      "  Concepts: Add to Existing Plot / internal plot\n",
      "graphics::axis.POSIXct\n",
      "                        Date and Date-time Plotting Functions\n",
      "graphics::axTicks       Compute Axis Tickmark Locations\n",
      "  Concepts: Computations Related to Plotting\n",
      "graphics::barplot       Bar Plots\n",
      "  Aliases: barplot, barplot.default, barplot.formula\n",
      "  Concepts: High-Level Plots\n",
      "graphics::box           Draw a Box around a Plot\n",
      "  Concepts: Add to Existing Plot / internal plot\n",
      "graphics::boxplot       Box Plots\n",
      "  Aliases: boxplot, boxplot.default, boxplot.formula\n",
      "  Concepts: High-Level Plots\n",
      "graphics::boxplot.matrix\n",
      "                        Draw a Boxplot for each Column (Row) of a\n",
      "                        Matrix\n",
      "  Aliases: boxplot.matrix\n",
      "  Concepts: High-Level Plots\n",
      "graphics::bxp           Draw Box Plots from Summaries\n",
      "  Concepts: Add to Existing Plot / internal plot\n",
      "graphics::cdplot        Conditional Density Plots\n",
      "  Aliases: cdplot, cdplot.default, cdplot.formula\n",
      "  Concepts: High-Level Plots\n",
      "graphics::clip          Set Clipping Region\n",
      "  Concepts: Computations Related to Plotting\n",
      "graphics::contour       Display Contours\n",
      "  Concepts: High-Level Plots, Add to Existing Plot / internal plot\n",
      "graphics::coplot        Conditioning Plots\n",
      "  Aliases: coplot\n",
      "  Concepts: High-Level Plots, Add to Existing Plot / internal plot\n",
      "graphics::curve         Draw Function Plots\n",
      "  Aliases: plot.function\n",
      "  Concepts: High-Level Plots\n",
      "graphics::dotchart      Cleveland's Dot Plots\n",
      "  Concepts: High-Level Plots\n",
      "graphics::filled.contour\n",
      "                        Level (Contour) Plots\n",
      "  Concepts: High-Level Plots, Add to Existing Plot / internal plot\n",
      "graphics::fourfoldplot\n",
      "                        Fourfold Plots\n",
      "  Aliases: fourfoldplot\n",
      "  Concepts: High-Level Plots\n",
      "graphics::graphics-defunct\n",
      "                        Defunct Functions in Package 'graphics'\n",
      "  Aliases: dotplot, stripplot\n",
      "graphics::grconvertX    Convert between Graphics Coordinate Systems\n",
      "  Concepts: Computations Related to Plotting\n",
      "graphics::grid          Add Grid to a Plot\n",
      "  Concepts: Add to Existing Plot / internal plot\n",
      "graphics::hist          Histograms\n",
      "  Concepts: Computations Related to Plotting, High-Level Plots\n",
      "graphics::hist.POSIXt   Histogram of a Date or Date-Time Object\n",
      "  Concepts: Computations Related to Plotting, High-Level Plots\n",
      "graphics::identify      Identify Points in a Scatter Plot\n",
      "  Concepts: Interacting with Plots\n",
      "graphics::image         Display a Color Image\n",
      "  Concepts: High-Level Plots, Add to Existing Plot / internal plot\n",
      "graphics::layout        Specifying Complex Plot Arrangements\n",
      "  Concepts: Interacting with Plots, Computations Related to Plotting\n",
      "graphics::legend        Add Legends to Plots\n",
      "  Concepts: Add to Existing Plot / internal plot\n",
      "graphics::lines         Add Connected Line Segments to a Plot\n",
      "  Concepts: Add to Existing Plot / internal plot\n",
      "graphics::locator       Graphical Input\n",
      "  Concepts: Interacting with Plots\n",
      "graphics::matplot       Plot Columns of Matrices\n",
      "  Aliases: matplot\n",
      "  Concepts: High-Level Plots, Add to Existing Plot / internal plot\n",
      "graphics::mosaicplot    Mosaic Plots\n",
      "  Aliases: mosaicplot, mosaicplot.default, mosaicplot.formula\n",
      "  Concepts: High-Level Plots\n",
      "graphics::mtext         Write Text into the Margins of a Plot\n",
      "  Concepts: Add to Existing Plot / internal plot\n",
      "graphics::pairs         Scatterplot Matrices\n",
      "  Concepts: High-Level Plots\n",
      "graphics::panel.smooth\n",
      "                        Simple Panel Plot\n",
      "  Concepts: High-Level Plots, Computations Related to Plotting\n",
      "graphics::par           Set or Query Graphical Parameters\n",
      "  Concepts: Interacting with Plots, Computations Related to Plotting\n",
      "graphics::persp         Perspective Plots\n",
      "  Concepts: High-Level Plots, Add to Existing Plot / internal plot\n",
      "graphics::pie           Pie Charts\n",
      "  Concepts: High-Level Plots\n",
      "graphics::plot.data.frame\n",
      "                        Plot Method for Data Frames\n",
      "  Aliases: plot.data.frame\n",
      "  Concepts: High-Level Plots\n",
      "graphics::plot.default\n",
      "                        The Default Scatterplot Function\n",
      "  Aliases: plot.default, plot\n",
      "  Concepts: High-Level Plots\n",
      "graphics::plot.design   Plot Univariate Effects of a Design or Model\n",
      "  Aliases: plot.design\n",
      "  Concepts: High-Level Plots\n",
      "graphics::plot.factor   Plotting Factor Variables\n",
      "  Aliases: plot.factor\n",
      "  Concepts: High-Level Plots\n",
      "graphics::plot.formula\n",
      "                        Formula Notation for Scatterplots\n",
      "  Aliases: plot.formula\n",
      "  Concepts: High-Level Plots, Add to Existing Plot / internal plot\n",
      "graphics::plot.histogram\n",
      "                        Plot Histograms\n",
      "  Aliases: plot.histogram\n",
      "  Concepts: High-Level Plots, Interacting with Plots\n",
      "graphics::plot.new      Create / Start a New Plot Frame\n",
      "  Aliases: plot.new\n",
      "  Concepts: Interacting with Plots, Add to Existing Plot / internal\n",
      "    plot\n",
      "graphics::plot.raster   Plotting Raster Images\n",
      "  Aliases: plot.raster\n",
      "  Concepts: High-Level Plots\n",
      "graphics::plot.table    Plot Methods for 'table' Objects\n",
      "  Aliases: plot.table\n",
      "  Concepts: High-Level Plots\n",
      "graphics::plot.window   Set up World Coordinates for Graphics Window\n",
      "  Aliases: plot.window\n",
      "  Concepts: Add to Existing Plot / internal plot\n",
      "graphics::plot.xy       Basic Internal Plot Function\n",
      "  Aliases: plot.xy\n",
      "  Concepts: Add to Existing Plot / internal plot\n",
      "graphics::points        Add Points to a Plot\n",
      "  Concepts: Add to Existing Plot / internal plot\n",
      "graphics::polygon       Polygon Drawing\n",
      "  Concepts: Add to Existing Plot / internal plot\n",
      "graphics::polypath      Path Drawing\n",
      "  Concepts: Add to Existing Plot / internal plot\n",
      "graphics::rasterImage   Draw One or More Raster Images\n",
      "  Concepts: Add to Existing Plot / internal plot\n",
      "graphics::rect          Draw One or More Rectangles\n",
      "  Concepts: Add to Existing Plot / internal plot\n",
      "graphics::rug           Add a Rug to a Plot\n",
      "  Concepts: Add to Existing Plot / internal plot\n",
      "graphics::screen        Creating and Controlling Multiple Screens on a\n",
      "                        Single Device\n",
      "  Concepts: Add to Existing Plot / internal plot, Computations Related\n",
      "    to Plotting\n",
      "graphics::segments      Add Line Segments to a Plot\n",
      "  Concepts: Add to Existing Plot / internal plot\n",
      "graphics::smoothScatter\n",
      "                        Scatterplots with Smoothed Densities Color\n",
      "                        Representation\n",
      "  Concepts: High-Level Plots\n",
      "graphics::spineplot     Spine Plots and Spinograms\n",
      "  Aliases: spineplot, spineplot.default, spineplot.formula\n",
      "  Concepts: High-Level Plots\n",
      "graphics::stars         Star (Spider/Radar) Plots and Segment Diagrams\n",
      "  Concepts: High-Level Plots\n",
      "graphics::stem          Stem-and-Leaf Plots\n",
      "graphics::stripchart    1-D Scatter Plots\n",
      "  Concepts: High-Level Plots\n",
      "graphics::strwidth      Plotting Dimensions of Character Strings and\n",
      "                        Math Expressions\n",
      "  Concepts: Computations Related to Plotting\n",
      "graphics::sunflowerplot\n",
      "                        Produce a Sunflower Scatter Plot\n",
      "  Aliases: sunflowerplot, sunflowerplot.default, sunflowerplot.formula\n",
      "  Concepts: High-Level Plots\n",
      "graphics::symbols       Draw Symbols (Circles, Squares, Stars,\n",
      "                        Thermometers, Boxplots)\n",
      "  Concepts: boxplot, Add to Existing Plot / internal plot, High-Level\n",
      "    Plots\n",
      "graphics::text          Add Text to a Plot\n",
      "  Concepts: Add to Existing Plot / internal plot\n",
      "graphics::title         Plot Annotation\n",
      "  Concepts: Add to Existing Plot / internal plot\n",
      "graphics::xinch         Graphical Units\n",
      "  Concepts: Computations Related to Plotting\n",
      "graphics::xspline       Draw an X-spline\n",
      "  Concepts: Add to Existing Plot / internal plot\n",
      "grDevices::axisTicks    Compute Pretty Axis Tick Scales\n",
      "  Concepts: Computations Related to Plotting\n",
      "grDevices::boxplot.stats\n",
      "                        Box Plot Statistics\n",
      "  Aliases: boxplot.stats\n",
      "  Concepts: Computations Related to Plotting\n",
      "grDevices::cm           Unit Transformation\n",
      "  Concepts: Computations Related to Plotting\n",
      "grDevices::col2rgb      Color to RGB Conversion\n",
      "  Concepts: Computations Related to Plotting\n",
      "grDevices::colors       Color Names\n",
      "  Concepts: Computations Related to Plotting\n",
      "grDevices::contourLines\n",
      "                        Calculate Contour Lines\n",
      "  Concepts: Computations Related to Plotting\n",
      "grDevices::densCols     Colors for Smooth Density Plots\n",
      "  Concepts: Computations Related to Plotting\n",
      "grDevices::dev.capabilities\n",
      "                        Query Capabilities of the Current Graphics\n",
      "                        Device\n",
      "  Concepts: Computations Related to Plotting\n",
      "grDevices::dev.capture\n",
      "                        Capture device output as a raster image\n",
      "  Concepts: Computations Related to Plotting\n",
      "grDevices::dev.cur      Control Multiple Devices\n",
      "  Concepts: Interacting with Plots\n",
      "grDevices::dev.hold     Hold or Flush Output on an On-Screen Graphics\n",
      "                        Device.\n",
      "  Concepts: Computations Related to Plotting\n",
      "grDevices::dev.size     Find Size of Device Surface\n",
      "  Concepts: Computations Related to Plotting\n",
      "grDevices::devAskNewPage\n",
      "                        Prompt before New Page\n",
      "  Concepts: Computations Related to Plotting\n",
      "grDevices::extendrange\n",
      "                        Extend a Numerical Range by a Small Percentage\n",
      "  Concepts: Computations Related to Plotting\n",
      "grDevices::getGraphicsEvent\n",
      "                        Wait for a mouse or keyboard event from a\n",
      "                        graphics window\n",
      "  Concepts: Interacting with Plots\n",
      "grDevices::hcl          HCL Color Specification\n",
      "  Concepts: Computations Related to Plotting\n",
      "grDevices::Hershey      Hershey Vector Fonts in R\n",
      "  Concepts: Add to Existing Plot / internal plot\n",
      "grDevices::hsv          HSV Color Specification\n",
      "  Concepts: Computations Related to Plotting\n",
      "grDevices::is.raster    Create a Raster Object\n",
      "  Concepts: Computations Related to Plotting\n",
      "grDevices::Japanese     Japanese characters in R\n",
      "  Concepts: Add to Existing Plot / internal plot\n",
      "grDevices::n2mfrow      Compute Default 'mfrow' From Number of Plots\n",
      "  Concepts: Computations Related to Plotting\n",
      "grDevices::plotmath     Mathematical Annotation in R\n",
      "  Aliases: plotmath\n",
      "  Concepts: Add to Existing Plot / internal plot\n",
      "grDevices::pretty.Date\n",
      "                        Pretty Breakpoints for Date-Time Classes\n",
      "  Concepts: Computations Related to Plotting\n",
      "grDevices::rainbow      Color Palettes\n",
      "  Concepts: Computations Related to Plotting\n",
      "grDevices::replayPlot   Record and Replay Plots\n",
      "  Aliases: replayPlot, recordPlot, print.recordedplot\n",
      "  Concepts: Interacting with Plots\n",
      "grDevices::rgb2hsv      RGB to HSV Conversion\n",
      "  Concepts: Computations Related to Plotting\n",
      "grDevices::savePlot     Save Cairo X11 Plot to File\n",
      "  Aliases: savePlot\n",
      "grDevices::trans3d      3D to 2D Transformation for Perspective Plots\n",
      "  Concepts: Computations Related to Plotting\n",
      "grDevices::windows      Windows Graphics Devices\n",
      "  Aliases: print.SavedPlots, [.SavedPlots\n",
      "grDevices::xy.coords    Extracting Plotting Structures\n",
      "  Concepts: Computations Related to Plotting\n",
      "grDevices::xyTable      Multiplicities of (x,y) Points, e.g., for a\n",
      "                        Sunflower Plot\n",
      "  Concepts: Computations Related to Plotting\n",
      "grDevices::xyz.coords   Extracting Plotting Structures\n",
      "  Concepts: Computations Related to Plotting\n",
      "grid::absolute.size     Absolute Size of a Grob\n",
      "  Concepts: Computations Related to Plotting\n",
      "grid::arrow             Describe arrows to add to a line.\n",
      "  Concepts: Computations Related to Plotting\n",
      "grid::as.mask           Define a Soft Mask\n",
      "  Concepts: Computations Related to Plotting\n",
      "grid::calcStringMetric\n",
      "                        Calculate Metric Information for Text\n",
      "  Concepts: Computations Related to Plotting\n",
      "grid::convertUnit       Convert Between Different grid Coordinate\n",
      "                        Systems\n",
      "  Concepts: Computations Related to Plotting\n",
      "grid::current.viewport\n",
      "                        Get the Current Grid Viewport (Tree)\n",
      "  Concepts: Computations Related to Plotting\n",
      "grid::dataViewport      Create a Viewport with Scales based on Data\n",
      "  Concepts: Computations Related to Plotting\n",
      "grid::depth             Determine the number of levels in an object.\n",
      "  Concepts: Computations Related to Plotting\n",
      "grid::deviceLoc         Convert Viewport Location to Device Location\n",
      "  Concepts: Computations Related to Plotting\n",
      "grid::drawDetails       Customising grid Drawing\n",
      "  Concepts: Computations Related to Plotting\n",
      "grid::editDetails       Customising grid Editing\n",
      "  Concepts: Computations Related to Plotting\n",
      "grid::editViewport      Modify a Viewport\n",
      "  Concepts: Computations Related to Plotting\n",
      "grid::explode           Explode a path into its components.\n",
      "  Concepts: Computations Related to Plotting\n",
      "grid::gEdit             Create and Apply Edit Objects\n",
      "  Concepts: Computations Related to Plotting\n",
      "grid::getNames          List the names of grobs on the display list\n",
      "  Concepts: Computations Related to Plotting\n",
      "grid::gpar              Handling Grid Graphical Parameters\n",
      "  Concepts: Computations Related to Plotting\n",
      "grid::gPath             Concatenate Grob Names\n",
      "  Concepts: Computations Related to Plotting\n",
      "grid::Grid              Grid Graphics\n",
      "  Concepts: Computations Related to Plotting\n",
      "grid::grid.add          Add a Grid Graphical Object\n",
      "  Concepts: Computations Related to Plotting\n",
      "grid::grid.bezier       Draw a Bezier Curve\n",
      "  Concepts: Computations Related to Plotting\n",
      "grid::grid.cap          Capture a raster image\n",
      "  Concepts: Computations Related to Plotting\n",
      "grid::grid.circle       Draw a Circle\n",
      "  Concepts: Computations Related to Plotting\n",
      "grid::grid.clip         Set the Clipping Region\n",
      "  Concepts: Computations Related to Plotting\n",
      "grid::grid.copy         Make a Copy of a Grid Graphical Object\n",
      "  Concepts: Computations Related to Plotting\n",
      "grid::grid.curve        Draw a Curve Between Locations\n",
      "  Concepts: Computations Related to Plotting\n",
      "grid::grid.delay        Encapsulate calculations and generating a grob\n",
      "  Concepts: Computations Related to Plotting\n",
      "grid::grid.display.list\n",
      "                        Control the Grid Display List\n",
      "  Concepts: Computations Related to Plotting\n",
      "grid::grid.DLapply      Modify the Grid Display List\n",
      "  Concepts: Computations Related to Plotting\n",
      "grid::grid.draw         Draw a grid grob\n",
      "  Concepts: Computations Related to Plotting\n",
      "grid::grid.edit         Edit the Description of a Grid Graphical Object\n",
      "  Concepts: Computations Related to Plotting\n",
      "grid::grid.force        Force a grob into its components\n",
      "  Concepts: Computations Related to Plotting\n",
      "grid::grid.frame        Create a Frame for Packing Objects\n",
      "  Concepts: Computations Related to Plotting\n",
      "grid::grid.function     Draw a curve representing a function\n",
      "  Concepts: Computations Related to Plotting\n",
      "grid::grid.get          Get a Grid Graphical Object\n",
      "  Concepts: Computations Related to Plotting\n",
      "grid::grid.glyph        Draw Typeset Glyphs\n",
      "  Concepts: Computations Related to Plotting\n",
      "grid::grid.grab         Grab the current grid output\n",
      "  Concepts: Computations Related to Plotting\n",
      "grid::grid.grep         Search for Grobs and/or Viewports\n",
      "  Concepts: Computations Related to Plotting\n",
      "grid::grid.grill        Draw a Grill\n",
      "  Concepts: Computations Related to Plotting\n",
      "grid::grid.group        Draw a Group\n",
      "  Concepts: Computations Related to Plotting\n",
      "grid::grid.layout       Create a Grid Layout\n",
      "  Concepts: Computations Related to Plotting\n",
      "grid::grid.lines        Draw Lines in a Grid Viewport\n",
      "  Concepts: Computations Related to Plotting\n",
      "grid::grid.locator      Capture a Mouse Click\n",
      "  Concepts: Computations Related to Plotting\n",
      "grid::grid.ls           List the names of grobs or viewports\n",
      "  Concepts: Computations Related to Plotting\n",
      "grid::grid.move.to      Move or Draw to a Specified Position\n",
      "  Concepts: Computations Related to Plotting\n",
      "grid::grid.newpage      Move to a New Page on a Grid Device\n",
      "  Concepts: Computations Related to Plotting\n",
      "grid::grid.null         Null Graphical Object\n",
      "  Concepts: Computations Related to Plotting\n",
      "grid::grid.pack         Pack an Object within a Frame\n",
      "  Concepts: Computations Related to Plotting\n",
      "grid::grid.path         Draw a Path\n",
      "  Concepts: Computations Related to Plotting\n",
      "grid::grid.place        Place an Object within a Frame\n",
      "  Concepts: Computations Related to Plotting\n",
      "grid::grid.plot.and.legend\n",
      "                        A Simple Plot and Legend Demo\n",
      "  Aliases: grid.plot.and.legend\n",
      "  Concepts: Computations Related to Plotting\n",
      "grid::grid.points       Draw Data Symbols\n",
      "  Concepts: Computations Related to Plotting\n",
      "grid::grid.polygon      Draw a Polygon\n",
      "  Concepts: Computations Related to Plotting\n",
      "grid::grid.pretty       Generate a Sensible (\"Pretty\") Set of\n",
      "                        Breakpoints\n",
      "  Concepts: Computations Related to Plotting\n",
      "grid::grid.raster       Render a raster object\n",
      "  Concepts: Computations Related to Plotting\n",
      "grid::grid.record       Encapsulate calculations and drawing\n",
      "  Concepts: Computations Related to Plotting\n",
      "grid::grid.rect         Draw rectangles\n",
      "  Concepts: Computations Related to Plotting\n",
      "grid::grid.refresh      Refresh the current grid scene\n",
      "  Concepts: Computations Related to Plotting\n",
      "grid::grid.remove       Remove a Grid Graphical Object\n",
      "  Concepts: Computations Related to Plotting\n",
      "grid::grid.reorder      Reorder the children of a gTree\n",
      "  Concepts: Computations Related to Plotting\n",
      "grid::grid.segments     Draw Line Segments\n",
      "  Concepts: Computations Related to Plotting\n",
      "grid::grid.set          Set a Grid Graphical Object\n",
      "  Concepts: Computations Related to Plotting\n",
      "grid::grid.show.layout\n",
      "                        Draw a Diagram of a Grid Layout\n",
      "  Concepts: Computations Related to Plotting\n",
      "grid::grid.show.viewport\n",
      "                        Draw a Diagram of a Grid Viewport\n",
      "  Concepts: Computations Related to Plotting\n",
      "grid::grid.stroke       Stroke or Fill a Path\n",
      "  Concepts: Computations Related to Plotting\n",
      "grid::grid.text         Draw Text\n",
      "  Concepts: Computations Related to Plotting\n",
      "grid::grid.xaxis        Draw an X-Axis\n",
      "  Concepts: Computations Related to Plotting\n",
      "grid::grid.xspline      Draw an Xspline\n",
      "  Concepts: Computations Related to Plotting\n",
      "grid::grid.yaxis        Draw a Y-Axis\n",
      "  Concepts: Computations Related to Plotting\n",
      "grid::gridCoords        Create Sets of Coordinates for Grid Grobs\n",
      "  Concepts: Computations Related to Plotting\n",
      "grid::grob              Create Grid Graphical Objects, aka \"Grob\"s\n",
      "  Concepts: Computations Related to Plotting\n",
      "grid::grobCoords        Calculate Points on the Perimeter of a Grob\n",
      "  Concepts: Computations Related to Plotting\n",
      "grid::grobName          Generate a Name for a Grob\n",
      "  Concepts: Computations Related to Plotting\n",
      "grid::grobWidth         Create a Unit Describing the Width of a Grob\n",
      "  Concepts: Computations Related to Plotting\n",
      "grid::grobX             Create a Unit Describing a Grob Boundary\n",
      "                        Location\n",
      "  Concepts: Computations Related to Plotting\n",
      "grid::legendGrob        Constructing a Legend Grob\n",
      "  Concepts: Add to Existing Plot / internal plot\n",
      "grid::makeContent       Customised grid Grobs\n",
      "  Concepts: Computations Related to Plotting\n",
      "grid::patterns          Define Gradient and Pattern Fills\n",
      "  Concepts: Computations Related to Plotting\n",
      "grid::plotViewport      Create a Viewport with a Standard Plot Layout\n",
      "  Aliases: plotViewport\n",
      "  Concepts: Computations Related to Plotting\n",
      "grid::pushViewport      Maintaining and Navigating the Grid Viewport\n",
      "                        Tree\n",
      "  Concepts: Computations Related to Plotting\n",
      "grid::resolveRasterSize\n",
      "                        Utility function to resolve the size of a\n",
      "                        raster grob\n",
      "  Concepts: Computations Related to Plotting\n",
      "grid::roundrect         Draw a rectangle with rounded corners\n",
      "  Concepts: Computations Related to Plotting\n",
      "grid::showGrob          Label grid grobs.\n",
      "  Concepts: Computations Related to Plotting\n",
      "grid::showViewport      Display grid viewports.\n",
      "  Concepts: Computations Related to Plotting\n",
      "grid::stringWidth       Create a Unit Describing the Width and Height\n",
      "                        of a String or Math Expression\n",
      "  Concepts: Computations Related to Plotting\n",
      "grid::unit              Function to Create a Unit Object\n",
      "  Concepts: Computations Related to Plotting\n",
      "grid::unit.c            Combine Unit Objects\n",
      "  Concepts: Computations Related to Plotting\n",
      "grid::unit.length       Length of a Unit Object\n",
      "  Concepts: Computations Related to Plotting\n",
      "grid::unit.pmin         Parallel Unit Minima and Maxima\n",
      "  Concepts: Computations Related to Plotting\n",
      "grid::unit.rep          Replicate Elements of Unit Objects\n",
      "  Concepts: Computations Related to Plotting\n",
      "grid::unitType          Return the Units of a Unit Object\n",
      "  Concepts: Computations Related to Plotting\n",
      "grid::valid.just        Validate a Justification\n",
      "  Concepts: Computations Related to Plotting\n",
      "grid::validDetails      Customising grid grob Validation\n",
      "  Concepts: Computations Related to Plotting\n",
      "grid::viewport          Create a Grid Viewport\n",
      "  Concepts: Computations Related to Plotting\n",
      "grid::viewportTransform\n",
      "                        Define a Group Transformation\n",
      "  Concepts: Computations Related to Plotting\n",
      "grid::vpPath            Concatenate Viewport Names\n",
      "  Concepts: Computations Related to Plotting\n",
      "grid::widthDetails      Width and Height of a grid grob\n",
      "  Concepts: Computations Related to Plotting\n",
      "grid::xDetails          Boundary of a grid grob\n",
      "  Concepts: Computations Related to Plotting\n",
      "grid::xsplinePoints     Return the points that would be used to draw an\n",
      "                        Xspline (or a Bezier curve).\n",
      "  Concepts: Computations Related to Plotting\n",
      "htmltools::capturePlot\n",
      "                        Capture a plot as a saved file\n",
      "  Aliases: capturePlot\n",
      "htmltools::plotTag      Capture a plot as a self-contained <img> tag\n",
      "  Aliases: plotTag\n",
      "knitr::hook_pdfcrop     Built-in chunk hooks to extend knitr\n",
      "  Aliases: hook_plot_custom\n",
      "knitr::hook_plot_html   Default plot hooks for different output formats\n",
      "  Aliases: hook_plot_html, hook_plot_asciidoc, hook_plot_tex,\n",
      "    hook_plot_md, hook_plot_rst, hook_plot_textile\n",
      "knitr::is_low_change    Compare two recorded plots\n",
      "knitr::plot_crop        Crop a plot (remove the edges) using PDFCrop or\n",
      "                        ImageMagick\n",
      "  Aliases: plot_crop\n",
      "lattice::axis.default   Default axis annotation utilities\n",
      "  Concepts: Computations Related to Plotting\n",
      "lattice::banking        Banking\n",
      "  Concepts: Computations Related to Plotting\n",
      "lattice::barchart.table\n",
      "                        table methods for barchart and dotplot\n",
      "  Aliases: dotplot.table, dotplot.array, dotplot.matrix\n",
      "  Concepts: High-Level Plots\n",
      "lattice::cloud          3d Scatter Plot and Wireframe Surface Plot\n",
      "  Concepts: High-Level Plots\n",
      "lattice::current.row    Accessing Auxiliary Information During Plotting\n",
      "  Concepts: Computations Related to Plotting\n",
      "lattice::draw.colorkey\n",
      "                        Produce a colorkey typically for levelplot\n",
      "  Concepts: Computations Related to Plotting\n",
      "lattice::draw.key       Produce a Legend or Key\n",
      "  Concepts: Computations Related to Plotting\n",
      "lattice::equal.count    shingles\n",
      "  Aliases: plot.shingle\n",
      "  Concepts: High-Level Plots\n",
      "lattice::histogram      Histograms and Kernel Density Plots\n",
      "  Aliases: densityplot, densityplot.numeric, densityplot.formula,\n",
      "    densityplot.data.frame\n",
      "  Concepts: High-Level Plots\n",
      "lattice::larrows        Replacements of traditional graphics functions\n",
      "  Aliases: lplot.xy\n",
      "  Concepts: Computations Related to Plotting\n",
      "lattice::Lattice        Lattice Graphics\n",
      "  Concepts: Computations Related to Plotting\n",
      "lattice::lattice.options\n",
      "                        Low-level Options Controlling Behaviour of\n",
      "                        Lattice\n",
      "  Concepts: Computations Related to Plotting\n",
      "lattice::levelplot      Level plots and contour plots\n",
      "  Aliases: levelplot, contourplot, levelplot.formula,\n",
      "    levelplot.data.frame, contourplot.formula, contourplot.data.frame,\n",
      "    levelplot.table, contourplot.table, levelplot.array,\n",
      "    contourplot.array, levelplot.matrix, contourplot.matrix\n",
      "  Concepts: High-Level Plots\n",
      "lattice::make.groups    Grouped data from multiple vectors\n",
      "  Concepts: Computations Related to Plotting\n",
      "lattice::oneway         Fit One-way Model\n",
      "  Concepts: Computations Related to Plotting\n",
      "lattice::packet.panel.default\n",
      "                        Associating Packets with Panels\n",
      "  Concepts: Computations Related to Plotting\n",
      "lattice::panel.axis     Panel Function for Drawing Axis Ticks and\n",
      "                        Labels\n",
      "  Concepts: Computations Related to Plotting\n",
      "lattice::panel.barchart\n",
      "                        Default Panel Function for barchart\n",
      "  Concepts: Computations Related to Plotting\n",
      "lattice::panel.bwplot   Default Panel Function for bwplot\n",
      "  Aliases: panel.bwplot\n",
      "  Concepts: Computations Related to Plotting\n",
      "lattice::panel.cloud    Default Panel Function for cloud\n",
      "  Concepts: Computations Related to Plotting\n",
      "lattice::panel.densityplot\n",
      "                        Default Panel Function for densityplot\n",
      "  Aliases: panel.densityplot\n",
      "  Concepts: Computations Related to Plotting\n",
      "lattice::panel.dotplot\n",
      "                        Default Panel Function for dotplot\n",
      "  Aliases: panel.dotplot\n",
      "  Concepts: Computations Related to Plotting\n",
      "lattice::panel.functions\n",
      "                        Useful Panel Function Components\n",
      "  Concepts: Computations Related to Plotting\n",
      "lattice::panel.histogram\n",
      "                        Default Panel Function for histogram\n",
      "  Concepts: Computations Related to Plotting\n",
      "lattice::panel.identify\n",
      "                        Functions to Interact with Lattice Plots\n",
      "  Concepts: Computations Related to Plotting\n",
      "lattice::panel.levelplot\n",
      "                        Panel Functions for levelplot and contourplot\n",
      "  Aliases: panel.levelplot, panel.contourplot, panel.levelplot.raster\n",
      "  Concepts: Computations Related to Plotting\n",
      "lattice::panel.loess    Panel Function to Add a LOESS Smooth\n",
      "  Concepts: Computations Related to Plotting\n",
      "lattice::panel.pairs    Default Superpanel Function for splom\n",
      "  Concepts: Computations Related to Plotting\n",
      "lattice::panel.parallel\n",
      "                        Default Panel Function for parallel\n",
      "  Concepts: Computations Related to Plotting\n",
      "lattice::panel.qqmath   Default Panel Function for qqmath\n",
      "  Concepts: Computations Related to Plotting\n",
      "lattice::panel.qqmathline\n",
      "                        Useful panel function with qqmath\n",
      "  Concepts: Computations Related to Plotting\n",
      "lattice::panel.smoothScatter\n",
      "                        Lattice panel function analogous to\n",
      "                        smoothScatter\n",
      "  Concepts: High-Level Plots\n",
      "lattice::panel.spline   Panel Function to Add a Spline Smooth\n",
      "  Concepts: Computations Related to Plotting\n",
      "lattice::panel.stripplot\n",
      "                        Default Panel Function for stripplot\n",
      "  Aliases: panel.stripplot\n",
      "  Concepts: Computations Related to Plotting\n",
      "lattice::panel.superpose\n",
      "                        Panel Function for Display Marked by groups\n",
      "  Concepts: Computations Related to Plotting\n",
      "lattice::panel.violin   Panel Function to create Violin Plots\n",
      "  Concepts: Computations Related to Plotting\n",
      "lattice::panel.xyplot   Default Panel Function for xyplot\n",
      "  Aliases: panel.xyplot\n",
      "  Concepts: Computations Related to Plotting\n",
      "lattice::prepanel.default.bwplot\n",
      "                        Default Prepanel Functions\n",
      "  Aliases: prepanel.default.bwplot, prepanel.default.xyplot,\n",
      "    prepanel.default.levelplot, prepanel.default.densityplot\n",
      "  Concepts: Computations Related to Plotting\n",
      "lattice::prepanel.lmline\n",
      "                        Useful Prepanel Function for Lattice\n",
      "  Concepts: Computations Related to Plotting\n",
      "lattice::print.trellis\n",
      "                        Plot and Summarize Trellis Objects\n",
      "  Aliases: plot.trellis\n",
      "  Concepts: High-Level Plots\n",
      "lattice::qq             Quantile-Quantile Plots of Two Samples\n",
      "  Concepts: Computations Related to Plotting\n",
      "lattice::qqmath         Q-Q Plot with Theoretical Distribution\n",
      "  Concepts: Computations Related to Plotting\n",
      "lattice::rfs            Residual and Fit Spread Plots\n",
      "  Concepts: Computations Related to Plotting\n",
      "lattice::simpleKey      Function to generate a simple key\n",
      "  Concepts: Computations Related to Plotting\n",
      "lattice::simpleTheme    Function to generate a simple theme\n",
      "  Concepts: Computations Related to Plotting\n",
      "lattice::splom          Scatter Plot Matrices\n",
      "  Aliases: parallelplot, parallelplot.matrix, parallelplot.data.frame,\n",
      "    parallelplot.formula\n",
      "  Concepts: High-Level Plots\n",
      "lattice::standard.theme\n",
      "                        Built-in Graphical Themes\n",
      "  Concepts: Computations Related to Plotting\n",
      "lattice::strip.default\n",
      "                        Default Trellis Strip Function\n",
      "  Concepts: Computations Related to Plotting\n",
      "lattice::tmd            Tukey Mean-Difference Plot\n",
      "  Concepts: Computations Related to Plotting\n",
      "lattice::trellis.device\n",
      "                        Initializing Trellis Displays\n",
      "  Concepts: Computations Related to Plotting\n",
      "lattice::trellis.object\n",
      "                        A Trellis Plot Object\n",
      "lattice::trellis.par.get\n",
      "                        Graphical Parameters for Trellis Displays\n",
      "  Concepts: Computations Related to Plotting\n",
      "lattice::update.trellis\n",
      "                        Retrieve and Update Trellis Object\n",
      "  Concepts: Computations Related to Plotting\n",
      "lattice::utilities.3d   Utility functions for 3-D plots\n",
      "  Concepts: Computations Related to Plotting\n",
      "lattice::xyplot         Common Bivariate Trellis Plots\n",
      "  Aliases: xyplot, xyplot.formula, xyplot.data.frame, bwplot,\n",
      "    bwplot.formula, bwplot.data.frame, bwplot.numeric, dotplot,\n",
      "    dotplot.formula, dotplot.data.frame, dotplot.numeric,\n",
      "    dotplot.default, stripplot, stripplot.formula,\n",
      "    stripplot.data.frame, stripplot.numeric\n",
      "  Concepts: High-Level Plots\n",
      "lattice::xyplot.ts      Time series plotting methods\n",
      "  Aliases: xyplot.ts\n",
      "  Concepts: High-Level Plots\n",
      "MASS::bandwidth.nrd     Bandwidth for density() via Normal Reference\n",
      "                        Distribution\n",
      "  Concepts: Computations Related to Plotting\n",
      "MASS::bcv               Biased Cross-Validation for Bandwidth Selection\n",
      "  Concepts: Computations Related to Plotting\n",
      "MASS::boxcox            Box-Cox Transformations for Linear Models\n",
      "  Concepts: High-Level Plots\n",
      "MASS::eqscplot          Plots with Geometrically Equal Scales\n",
      "  Aliases: eqscplot\n",
      "  Concepts: High-Level Plots\n",
      "MASS::hist.scott        Plot a Histogram with Automatic Bin Width\n",
      "                        Selection\n",
      "  Concepts: High-Level Plots, Computations Related to Plotting\n",
      "MASS::kde2d             Two-Dimensional Kernel Density Estimation\n",
      "  Concepts: Computations Related to Plotting\n",
      "MASS::ldahist           Histograms or Density Plots of Multiple Groups\n",
      "  Concepts: Computations Related to Plotting, High-Level Plots\n",
      "MASS::lm.ridge          Ridge Regression\n",
      "  Aliases: plot.ridgelm\n",
      "MASS::logtrans          Estimate log Transformation Parameter\n",
      "  Concepts: High-Level Plots\n",
      "MASS::pairs.lda         Produce Pairwise Scatterplots from an 'lda' Fit\n",
      "  Concepts: High-Level Plots\n",
      "MASS::parcoord          Parallel Coordinates Plot\n",
      "  Concepts: High-Level Plots\n",
      "MASS::plot.lda          Plot Method for Class 'lda'\n",
      "  Aliases: plot.lda\n",
      "  Concepts: High-Level Plots\n",
      "MASS::plot.mca          Plot Method for Objects of Class 'mca'\n",
      "  Aliases: plot.mca\n",
      "  Concepts: High-Level Plots\n",
      "MASS::plot.profile      Plotting Functions for 'profile' Objects\n",
      "  Aliases: plot.profile\n",
      "  Concepts: High-Level Plots\n",
      "MASS::truehist          Plot a Histogram\n",
      "  Concepts: High-Level Plots, Computations Related to Plotting\n",
      "MASS::ucv               Unbiased Cross-Validation for Bandwidth\n",
      "                        Selection\n",
      "  Concepts: Computations Related to Plotting\n",
      "MASS::width.SJ          Bandwidth Selection by Pilot Estimation of\n",
      "                        Derivatives\n",
      "  Concepts: Computations Related to Plotting\n",
      "Matrix::image           Methods for image() in Package 'Matrix'\n",
      "  Concepts: High-Level Plots\n",
      "methods::setOldClass    Register Old-Style (S3) Classes and Inheritance\n",
      "  Aliases: recordedplot-class\n",
      "mgcv::exclude.too.far   Exclude prediction grid points too far from\n",
      "                        data\n",
      "  Concepts: High-Level Plots\n",
      "mgcv::plot.gam          Default GAM plotting\n",
      "  Aliases: plot.gam\n",
      "  Concepts: High-Level Plots\n",
      "mgcv::polys.plot        Plot geographic regions defined as polygons\n",
      "  Aliases: polys.plot\n",
      "  Concepts: High-Level Plots\n",
      "mgcv::qq.gam            QQ plots for gam model residuals\n",
      "mgcv::vis.gam           Visualization of GAM objects\n",
      "  Concepts: High-Level Plots\n",
      "nlme::Alfalfa           Split-Plot Experiment on Varieties of Alfalfa\n",
      "nlme::Oats              Split-plot Experiment on Varieties of Oats\n",
      "nlme::pairs.compareFits\n",
      "                        Pairs Plot of compareFits Object\n",
      "nlme::pairs.lme         Pairs Plot of an lme Object\n",
      "nlme::pairs.lmList      Pairs Plot of an lmList Object\n",
      "nlme::pdMat             Positive-Definite Matrix\n",
      "  Aliases: plot.pdMat\n",
      "nlme::plot.ACF          Plot an ACF Object\n",
      "  Aliases: plot.ACF\n",
      "nlme::plot.augPred      Plot an augPred Object\n",
      "  Aliases: plot.augPred\n",
      "nlme::plot.compareFits\n",
      "                        Plot a compareFits Object\n",
      "  Aliases: plot.compareFits\n",
      "nlme::plot.gls          Plot a gls Object\n",
      "  Aliases: plot.gls\n",
      "nlme::plot.intervals.lmList\n",
      "                        Plot lmList Confidence Intervals\n",
      "  Aliases: plot.intervals.lmList\n",
      "nlme::plot.lme          Plot an lme or nls object\n",
      "  Aliases: plot.lme, plot.nls\n",
      "  Concepts: High-Level Plots\n",
      "nlme::plot.lmList       Plot an lmList Object\n",
      "  Aliases: plot.lmList\n",
      "nlme::plot.nffGroupedData\n",
      "                        Plot an nffGroupedData Object\n",
      "  Aliases: plot.nffGroupedData\n",
      "nlme::plot.nfnGroupedData\n",
      "                        Plot an nfnGroupedData Object\n",
      "  Aliases: plot.nfnGroupedData\n",
      "nlme::plot.nmGroupedData\n",
      "                        Plot an nmGroupedData Object\n",
      "  Aliases: plot.nmGroupedData\n",
      "nlme::plot.ranef.lme    Plot a ranef.lme Object\n",
      "  Aliases: plot.ranef.lme\n",
      "nlme::plot.ranef.lmList\n",
      "                        Plot a ranef.lmList Object\n",
      "  Aliases: plot.ranef.lmList\n",
      "nlme::plot.Variogram    Plot a Variogram Object\n",
      "  Aliases: plot.Variogram\n",
      "nlme::qqnorm.gls        Normal Plot of Residuals from a gls Object\n",
      "nlme::qqnorm.lm         Normal Plot of Residuals or Random Effects from\n",
      "                        an lme Object\n",
      "nlme::simulate.lme      Simulate Results from 'lme' Models\n",
      "  Aliases: plot.simulate.lme\n",
      "repr::repr_*.recordedplot\n",
      "                        Plot representations\n",
      "  Aliases: repr_*.recordedplot, repr_text.recordedplot,\n",
      "    repr_png.recordedplot, repr_jpg.recordedplot,\n",
      "    repr_svg.recordedplot, repr_pdf.recordedplot\n",
      "repr::repr_plotly1.*    Representation as Plotly JSON.\n",
      "  Aliases: repr_plotly1.*, repr_plotly1.plotly, repr_plotly1.ggplot\n",
      "repr::repr-generics     Representations for specific formats\n",
      "  Aliases: repr_plotly1, repr_plotly1.default\n",
      "rpart::meanvar          Mean-Variance Plot for an Rpart Object\n",
      "rpart::plot.rpart       Plot an Rpart Object\n",
      "  Aliases: plot.rpart\n",
      "rpart::plotcp           Plot a Complexity Parameter Table for an Rpart\n",
      "                        Fit\n",
      "  Aliases: plotcp\n",
      "rpart::post.rpart       PostScript Presentation Plot of an Rpart Object\n",
      "rpart::rsq.rpart        Plots the Approximate R-Square for the\n",
      "                        Different Splits\n",
      "rpart::text.rpart       Place Text on a Dendrogram Plot\n",
      "rstudioapi::savePlotAsImage\n",
      "                        Save active RStudio plot image\n",
      "  Aliases: savePlotAsImage\n",
      "shiny::brushedPoints    Find rows of data selected on an interactive\n",
      "                        plot.\n",
      "shiny::clickOpts        Control interactive plot point events\n",
      "shiny::plotOutput       Create an plot or image output element\n",
      "  Aliases: plotOutput\n",
      "shiny::plotPNG          Capture a plot as a PNG file.\n",
      "  Aliases: plotPNG\n",
      "shiny::renderCachedPlot\n",
      "                        Plot output with cached images\n",
      "  Aliases: renderCachedPlot\n",
      "shiny::renderPlot       Plot Output\n",
      "  Aliases: renderPlot\n",
      "spatial::trls.influence\n",
      "                        Regression diagnostics for trend surfaces\n",
      "  Aliases: plot.trls\n",
      "stats::approx           Interpolation Functions\n",
      "  Concepts: Computations Related to Plotting\n",
      "stats::biplot           Biplot of Multivariate Data\n",
      "  Aliases: biplot, biplot.default\n",
      "  Concepts: High-Level Plots\n",
      "stats::biplot.princomp\n",
      "                        Biplot for Principal Components\n",
      "  Aliases: biplot.princomp, biplot.prcomp\n",
      "  Concepts: High-Level Plots\n",
      "stats::convolve         Convolution of Sequences via FFT\n",
      "  Concepts: Computations Related to Plotting\n",
      "stats::cpgram           Plot Cumulative Periodogram\n",
      "  Concepts: High-Level Plots\n",
      "stats::decompose        Classical Seasonal Decomposition by Moving\n",
      "                        Averages\n",
      "  Aliases: plot.decomposed.ts\n",
      "stats::dendrogram       General Tree Structures\n",
      "  Aliases: plot.dendrogram\n",
      "  Concepts: High-Level Plots\n",
      "stats::ecdf             Empirical Cumulative Distribution Function\n",
      "  Aliases: plot.ecdf\n",
      "  Concepts: Computations Related to Plotting, High-Level Plots\n",
      "stats::fft              Fast Discrete Fourier Transform (FFT)\n",
      "  Concepts: Computations Related to Plotting\n",
      "stats::hclust           Hierarchical Clustering\n",
      "  Aliases: plot.hclust\n",
      "stats::heatmap          Draw a Heat Map\n",
      "  Concepts: High-Level Plots\n",
      "stats::identify.hclust\n",
      "                        Identify Clusters in a Dendrogram\n",
      "  Concepts: Interacting with Plots\n",
      "stats::interaction.plot\n",
      "                        Two-way Interaction Plot\n",
      "  Aliases: interaction.plot\n",
      "  Concepts: High-Level Plots\n",
      "stats::kernel           Smoothing Kernel Objects\n",
      "  Aliases: plot.tskernel\n",
      "stats::lag.plot         Time Series Lag Plots\n",
      "  Aliases: lag.plot\n",
      "  Concepts: High-Level Plots\n",
      "stats::lowess           Scatter Plot Smoothing\n",
      "stats::monthplot        Plot a Seasonal or other Subseries from a Time\n",
      "                        Series\n",
      "  Aliases: monthplot, monthplot.default, monthplot.ts, monthplot.stl,\n",
      "    monthplot.StructTS\n",
      "  Concepts: High-Level Plots\n",
      "stats::plot.acf         Plot Autocovariance and Autocorrelation\n",
      "                        Functions\n",
      "  Aliases: plot.acf\n",
      "  Concepts: High-Level Plots\n",
      "stats::plot.density     Plot Method for Kernel Density Estimation\n",
      "  Aliases: plot.density\n",
      "  Concepts: Computations Related to Plotting\n",
      "stats::plot.HoltWinters\n",
      "                        Plot function for HoltWinters objects\n",
      "  Aliases: plot.HoltWinters\n",
      "stats::plot.isoreg      Plot Method for isoreg Objects\n",
      "  Aliases: plot.isoreg\n",
      "  Concepts: High-Level Plots\n",
      "stats::plot.lm          Plot Diagnostics for an 'lm' Object\n",
      "  Aliases: plot.lm\n",
      "  Concepts: High-Level Plots\n",
      "stats::plot.ppr         Plot Ridge Functions for Projection Pursuit\n",
      "                        Regression Fit\n",
      "  Aliases: plot.ppr\n",
      "  Concepts: High-Level Plots\n",
      "stats::plot.profile.nls\n",
      "                        Plot a profile.nls Object\n",
      "  Aliases: plot.profile.nls\n",
      "stats::plot.spec        Plotting Spectral Densities\n",
      "  Aliases: plot.spec, plot.spec.coherency, plot.spec.phase\n",
      "  Concepts: High-Level Plots\n",
      "stats::plot.stepfun     Plot Step Functions\n",
      "  Aliases: plot.stepfun\n",
      "  Concepts: High-Level Plots\n",
      "stats::plot.stl         Methods for STL Objects\n",
      "  Aliases: plot.stl\n",
      "stats::plot.ts          Plotting Time-Series Objects\n",
      "  Aliases: plot.ts\n",
      "  Concepts: High-Level Plots\n",
      "stats::ppoints          Ordinates for Probability Plotting\n",
      "  Concepts: Computations Related to Plotting\n",
      "stats::prcomp           Principal Components Analysis\n",
      "  Aliases: plot.prcomp\n",
      "stats::preplot          Pre-computations for a Plotting Object\n",
      "  Aliases: preplot\n",
      "stats::princomp         Principal Components Analysis\n",
      "  Aliases: plot.princomp\n",
      "stats::qqnorm           Quantile-Quantile Plots\n",
      "  Aliases: qqplot\n",
      "  Concepts: normal probability plot, High-Level Plots\n",
      "stats::rect.hclust      Draw Rectangles Around Hierarchical Clusters\n",
      "  Concepts: Add to Existing Plot / internal plot\n",
      "stats::runmed           Running Medians - Robust Scatter Plot Smoothing\n",
      "stats::scatter.smooth   Scatter Plot with Smooth Curve Fitted by Loess\n",
      "stats::screeplot        Screeplots\n",
      "  Aliases: screeplot, screeplot.default\n",
      "stats::spline           Interpolating Splines\n",
      "  Concepts: Computations Related to Plotting\n",
      "stats::stats-defunct    Defunct Functions in Package 'stats'\n",
      "  Aliases: plot.mts\n",
      "stats::stepfun          Step Functions - Creation and Class\n",
      "  Concepts: Computations Related to Plotting\n",
      "stats::termplot         Plot Regression Terms\n",
      "  Aliases: termplot\n",
      "  Concepts: High-Level Plots\n",
      "stats::ts.plot          Plot Multiple Time Series\n",
      "  Aliases: ts.plot\n",
      "stats::tsdiag           Diagnostic Plots for Time-Series Fits\n",
      "stats4::plot-methods    Methods for Function 'plot' in Package 'stats4'\n",
      "  Aliases: plot-methods, plot,ANY,ANY-method,\n",
      "    plot,profile.mle,missing-method\n",
      "survival::lines.survfit\n",
      "                        Add Lines or Points to a Survival Plot\n",
      "survival::Math.Surv     Methods for Surv objects\n",
      "  Aliases: plot.Surv\n",
      "survival::plot.aareg    Plot an aareg object.\n",
      "  Aliases: plot.aareg\n",
      "survival::plot.cox.zph\n",
      "                        Graphical Test of Proportional Hazards\n",
      "  Aliases: plot.cox.zph\n",
      "survival::plot.survfit\n",
      "                        Plot method for 'survfit' objects\n",
      "  Aliases: plot.survfit\n",
      "  Concepts: High-Level Plots\n",
      "survival::statefig      Draw a state space figure.\n",
      "  Concepts: High-Level Plots\n",
      "\n",
      "\n",
      "Type '?PKG::FOO' to inspect entries 'PKG::FOO', or 'TYPE?PKG::FOO' for\n",
      "entries like 'PKG::FOO-TYPE'.\n",
      "\n",
      "\n"
     ]
    }
   ],
   "source": [
    "# Recherche dans le contenu des pages d'aide\n",
    "help.search(\"plot\")"
   ]
  },
  {
   "cell_type": "markdown",
   "metadata": {},
   "source": [
    "<div class=\"alert alert-block alert-info\">\n",
    "    <b>À retenir :</b>\n",
    "    <ul>\n",
    "        <li>Obtenir de l'aide sur une fonction dont on connaît le nom avec <code>help()</code> ou <code>?</code></li>\n",
    "        <li>Identifier les différentes rubriques d'une page d'aide : Description, Usage, Arguments, Details, Value, Note, References, See Also, Examples</li>\n",
    "        <li>Tous les exemples de la page d'aide fonctionnent (à tester par copier-coller)</li>\n",
    "    </ul>\n",
    "</div>"
   ]
  },
  {
   "cell_type": "markdown",
   "metadata": {},
   "source": [
    "### 1.4 Graphisme"
   ]
  },
  {
   "cell_type": "code",
   "execution_count": 66,
   "metadata": {
    "vscode": {
     "languageId": "r"
    }
   },
   "outputs": [
    {
     "data": {
      "image/png": "[encoded data removed]",
      "text/plain": [
       "plot without title"
      ]
     },
     "metadata": {
      "image/png": {
       "height": 420,
       "width": 420
      }
     },
     "output_type": "display_data"
    }
   ],
   "source": [
    "# Affichage du contenu d'un vecteur\n",
    "par(bg=\"white\")\n",
    "plot(mon_vecteur)"
   ]
  },
  {
   "cell_type": "code",
   "execution_count": 73,
   "metadata": {
    "vscode": {
     "languageId": "r"
    }
   },
   "outputs": [
    {
     "data": {
      "image/png": "[encoded data removed]",
      "text/plain": [
       "plot without title"
      ]
     },
     "metadata": {
      "image/png": {
       "height": 420,
       "width": 420
      }
     },
     "output_type": "display_data"
    }
   ],
   "source": [
    "# Des options pour tous les points\n",
    "par(bg=\"white\")\n",
    "plot(mon_vecteur, col=\"red\", pch=15, cex=3)"
   ]
  },
  {
   "cell_type": "code",
   "execution_count": 70,
   "metadata": {
    "vscode": {
     "languageId": "r"
    }
   },
   "outputs": [
    {
     "data": {
      "image/png": "[encoded data removed]",
      "text/plain": [
       "plot without title"
      ]
     },
     "metadata": {
      "image/png": {
       "height": 420,
       "width": 420
      }
     },
     "output_type": "display_data"
    }
   ],
   "source": [
    "par(bg=\"white\")\n",
    "# Des options pour chaque point\n",
    "plot(mon_vecteur, col=1:5, pch=1:5, cex=3)"
   ]
  },
  {
   "cell_type": "code",
   "execution_count": 74,
   "metadata": {
    "vscode": {
     "languageId": "r"
    }
   },
   "outputs": [
    {
     "data": {
      "image/png": "[encoded data removed]",
      "text/plain": [
       "plot without title"
      ]
     },
     "metadata": {
      "image/png": {
       "height": 420,
       "width": 420
      }
     },
     "output_type": "display_data"
    }
   ],
   "source": [
    "# Ajouter des éléments graphiques\n",
    "plot(mon_vecteur)\n",
    "abline(h=5, col=\"grey\", lwd=3)\n",
    "text(2, 6, \"Point de coordonnées 2, 6\")\n",
    "points(2, 6, pch=\"+\", cex=5, col=\"violet\")"
   ]
  },
  {
   "cell_type": "code",
   "execution_count": 75,
   "metadata": {
    "vscode": {
     "languageId": "r"
    }
   },
   "outputs": [
    {
     "data": {
      "image/png": "[encoded data removed]",
      "text/plain": [
       "plot without title"
      ]
     },
     "metadata": {
      "image/png": {
       "height": 420,
       "width": 420
      }
     },
     "output_type": "display_data"
    }
   ],
   "source": [
    "# Diagramme en barres\n",
    "barplot(mon_vecteur)"
   ]
  },
  {
   "cell_type": "code",
   "execution_count": 76,
   "metadata": {
    "vscode": {
     "languageId": "r"
    }
   },
   "outputs": [
    {
     "data": {
      "text/html": [
       "<strong>pdf:</strong> 2"
      ],
      "text/latex": [
       "\\textbf{pdf:} 2"
      ],
      "text/markdown": [
       "**pdf:** 2"
      ],
      "text/plain": [
       "pdf \n",
       "  2 "
      ]
     },
     "metadata": {},
     "output_type": "display_data"
    }
   ],
   "source": [
    "# Exporter la figure dans un fichier\n",
    "jpeg(\"ma_figure.jpg\")\n",
    "plot(mon_vecteur, col=1:5, pch=1:5, cex=3, main=\"Mon titre\")\n",
    "dev.off() # Toujours fermer le fichier pour terminer"
   ]
  },
  {
   "cell_type": "markdown",
   "metadata": {},
   "source": [
    "<div class=\"alert alert-block alert-info\">\n",
    "    <b>À retenir :</b>\n",
    "    <ul>\n",
    "        <li>Certaines fonctions créent un nouveau graphique : <code>plot()</code>, <code>barplot()</code>, <code>boxplot()</code>, <code>pie()</code>, <code>hist()</code>, ...</li>\n",
    "        <li>D'autres ajoutent des éléments sur un graphique existant : <code>text()</code>, <code>abline()</code>, <code>points()</code>, <code>lines()</code>, ...</li>\n",
    "        <li>Sauvegarder un graphique en ligne de commande en 3 étapes :\n",
    "            <ol>\n",
    "                <li>Ouvrir un fichier graphique (fonctions <code>jpeg()</code>, <code>bmp()</code>, <code>tiff()</code>, <code>png()</code>, <code>pdf()</code>, ...)</li>\n",
    "                <li>Faire la figure qui n'apparaît pas à l'écran (elle va dans le fichier)</li>\n",
    "                <li>Fermer le fichier (fonction <code>dev.off()</code>)</li>\n",
    "            </ol>\n",
    "        </li>\n",
    "    </ul>\n",
    "</div>"
   ]
  },
  {
   "cell_type": "markdown",
   "metadata": {},
   "source": [
    "## 2. Jeu de données USArrests"
   ]
  },
  {
   "cell_type": "code",
   "execution_count": 77,
   "metadata": {
    "vscode": {
     "languageId": "r"
    }
   },
   "outputs": [],
   "source": [
    "# Charge les données dans l'espace de travail\n",
    "data(USArrests)"
   ]
  },
  {
   "cell_type": "code",
   "execution_count": 78,
   "metadata": {
    "vscode": {
     "languageId": "r"
    }
   },
   "outputs": [
    {
     "data": {
      "text/html": [
       "<table class=\"dataframe\">\n",
       "<caption>A data.frame: 50 × 4</caption>\n",
       "<thead>\n",
       "\t<tr><th></th><th scope=col>Murder</th><th scope=col>Assault</th><th scope=col>UrbanPop</th><th scope=col>Rape</th></tr>\n",
       "\t<tr><th></th><th scope=col>&lt;dbl&gt;</th><th scope=col>&lt;int&gt;</th><th scope=col>&lt;int&gt;</th><th scope=col>&lt;dbl&gt;</th></tr>\n",
       "</thead>\n",
       "<tbody>\n",
       "\t<tr><th scope=row>Alabama</th><td>13.2</td><td>236</td><td>58</td><td>21.2</td></tr>\n",
       "\t<tr><th scope=row>Alaska</th><td>10.0</td><td>263</td><td>48</td><td>44.5</td></tr>\n",
       "\t<tr><th scope=row>Arizona</th><td> 8.1</td><td>294</td><td>80</td><td>31.0</td></tr>\n",
       "\t<tr><th scope=row>Arkansas</th><td> 8.8</td><td>190</td><td>50</td><td>19.5</td></tr>\n",
       "\t<tr><th scope=row>California</th><td> 9.0</td><td>276</td><td>91</td><td>40.6</td></tr>\n",
       "\t<tr><th scope=row>Colorado</th><td> 7.9</td><td>204</td><td>78</td><td>38.7</td></tr>\n",
       "\t<tr><th scope=row>Connecticut</th><td> 3.3</td><td>110</td><td>77</td><td>11.1</td></tr>\n",
       "\t<tr><th scope=row>Delaware</th><td> 5.9</td><td>238</td><td>72</td><td>15.8</td></tr>\n",
       "\t<tr><th scope=row>Florida</th><td>15.4</td><td>335</td><td>80</td><td>31.9</td></tr>\n",
       "\t<tr><th scope=row>Georgia</th><td>17.4</td><td>211</td><td>60</td><td>25.8</td></tr>\n",
       "\t<tr><th scope=row>Hawaii</th><td> 5.3</td><td> 46</td><td>83</td><td>20.2</td></tr>\n",
       "\t<tr><th scope=row>Idaho</th><td> 2.6</td><td>120</td><td>54</td><td>14.2</td></tr>\n",
       "\t<tr><th scope=row>Illinois</th><td>10.4</td><td>249</td><td>83</td><td>24.0</td></tr>\n",
       "\t<tr><th scope=row>Indiana</th><td> 7.2</td><td>113</td><td>65</td><td>21.0</td></tr>\n",
       "\t<tr><th scope=row>Iowa</th><td> 2.2</td><td> 56</td><td>57</td><td>11.3</td></tr>\n",
       "\t<tr><th scope=row>Kansas</th><td> 6.0</td><td>115</td><td>66</td><td>18.0</td></tr>\n",
       "\t<tr><th scope=row>Kentucky</th><td> 9.7</td><td>109</td><td>52</td><td>16.3</td></tr>\n",
       "\t<tr><th scope=row>Louisiana</th><td>15.4</td><td>249</td><td>66</td><td>22.2</td></tr>\n",
       "\t<tr><th scope=row>Maine</th><td> 2.1</td><td> 83</td><td>51</td><td> 7.8</td></tr>\n",
       "\t<tr><th scope=row>Maryland</th><td>11.3</td><td>300</td><td>67</td><td>27.8</td></tr>\n",
       "\t<tr><th scope=row>Massachusetts</th><td> 4.4</td><td>149</td><td>85</td><td>16.3</td></tr>\n",
       "\t<tr><th scope=row>Michigan</th><td>12.1</td><td>255</td><td>74</td><td>35.1</td></tr>\n",
       "\t<tr><th scope=row>Minnesota</th><td> 2.7</td><td> 72</td><td>66</td><td>14.9</td></tr>\n",
       "\t<tr><th scope=row>Mississippi</th><td>16.1</td><td>259</td><td>44</td><td>17.1</td></tr>\n",
       "\t<tr><th scope=row>Missouri</th><td> 9.0</td><td>178</td><td>70</td><td>28.2</td></tr>\n",
       "\t<tr><th scope=row>Montana</th><td> 6.0</td><td>109</td><td>53</td><td>16.4</td></tr>\n",
       "\t<tr><th scope=row>Nebraska</th><td> 4.3</td><td>102</td><td>62</td><td>16.5</td></tr>\n",
       "\t<tr><th scope=row>Nevada</th><td>12.2</td><td>252</td><td>81</td><td>46.0</td></tr>\n",
       "\t<tr><th scope=row>New Hampshire</th><td> 2.1</td><td> 57</td><td>56</td><td> 9.5</td></tr>\n",
       "\t<tr><th scope=row>New Jersey</th><td> 7.4</td><td>159</td><td>89</td><td>18.8</td></tr>\n",
       "\t<tr><th scope=row>New Mexico</th><td>11.4</td><td>285</td><td>70</td><td>32.1</td></tr>\n",
       "\t<tr><th scope=row>New York</th><td>11.1</td><td>254</td><td>86</td><td>26.1</td></tr>\n",
       "\t<tr><th scope=row>North Carolina</th><td>13.0</td><td>337</td><td>45</td><td>16.1</td></tr>\n",
       "\t<tr><th scope=row>North Dakota</th><td> 0.8</td><td> 45</td><td>44</td><td> 7.3</td></tr>\n",
       "\t<tr><th scope=row>Ohio</th><td> 7.3</td><td>120</td><td>75</td><td>21.4</td></tr>\n",
       "\t<tr><th scope=row>Oklahoma</th><td> 6.6</td><td>151</td><td>68</td><td>20.0</td></tr>\n",
       "\t<tr><th scope=row>Oregon</th><td> 4.9</td><td>159</td><td>67</td><td>29.3</td></tr>\n",
       "\t<tr><th scope=row>Pennsylvania</th><td> 6.3</td><td>106</td><td>72</td><td>14.9</td></tr>\n",
       "\t<tr><th scope=row>Rhode Island</th><td> 3.4</td><td>174</td><td>87</td><td> 8.3</td></tr>\n",
       "\t<tr><th scope=row>South Carolina</th><td>14.4</td><td>279</td><td>48</td><td>22.5</td></tr>\n",
       "\t<tr><th scope=row>South Dakota</th><td> 3.8</td><td> 86</td><td>45</td><td>12.8</td></tr>\n",
       "\t<tr><th scope=row>Tennessee</th><td>13.2</td><td>188</td><td>59</td><td>26.9</td></tr>\n",
       "\t<tr><th scope=row>Texas</th><td>12.7</td><td>201</td><td>80</td><td>25.5</td></tr>\n",
       "\t<tr><th scope=row>Utah</th><td> 3.2</td><td>120</td><td>80</td><td>22.9</td></tr>\n",
       "\t<tr><th scope=row>Vermont</th><td> 2.2</td><td> 48</td><td>32</td><td>11.2</td></tr>\n",
       "\t<tr><th scope=row>Virginia</th><td> 8.5</td><td>156</td><td>63</td><td>20.7</td></tr>\n",
       "\t<tr><th scope=row>Washington</th><td> 4.0</td><td>145</td><td>73</td><td>26.2</td></tr>\n",
       "\t<tr><th scope=row>West Virginia</th><td> 5.7</td><td> 81</td><td>39</td><td> 9.3</td></tr>\n",
       "\t<tr><th scope=row>Wisconsin</th><td> 2.6</td><td> 53</td><td>66</td><td>10.8</td></tr>\n",
       "\t<tr><th scope=row>Wyoming</th><td> 6.8</td><td>161</td><td>60</td><td>15.6</td></tr>\n",
       "</tbody>\n",
       "</table>\n"
      ],
      "text/latex": [
       "A data.frame: 50 × 4\n",
       "\\begin{tabular}{r|llll}\n",
       "  & Murder & Assault & UrbanPop & Rape\\\\\n",
       "  & <dbl> & <int> & <int> & <dbl>\\\\\n",
       "\\hline\n",
       "\tAlabama & 13.2 & 236 & 58 & 21.2\\\\\n",
       "\tAlaska & 10.0 & 263 & 48 & 44.5\\\\\n",
       "\tArizona &  8.1 & 294 & 80 & 31.0\\\\\n",
       "\tArkansas &  8.8 & 190 & 50 & 19.5\\\\\n",
       "\tCalifornia &  9.0 & 276 & 91 & 40.6\\\\\n",
       "\tColorado &  7.9 & 204 & 78 & 38.7\\\\\n",
       "\tConnecticut &  3.3 & 110 & 77 & 11.1\\\\\n",
       "\tDelaware &  5.9 & 238 & 72 & 15.8\\\\\n",
       "\tFlorida & 15.4 & 335 & 80 & 31.9\\\\\n",
       "\tGeorgia & 17.4 & 211 & 60 & 25.8\\\\\n",
       "\tHawaii &  5.3 &  46 & 83 & 20.2\\\\\n",
       "\tIdaho &  2.6 & 120 & 54 & 14.2\\\\\n",
       "\tIllinois & 10.4 & 249 & 83 & 24.0\\\\\n",
       "\tIndiana &  7.2 & 113 & 65 & 21.0\\\\\n",
       "\tIowa &  2.2 &  56 & 57 & 11.3\\\\\n",
       "\tKansas &  6.0 & 115 & 66 & 18.0\\\\\n",
       "\tKentucky &  9.7 & 109 & 52 & 16.3\\\\\n",
       "\tLouisiana & 15.4 & 249 & 66 & 22.2\\\\\n",
       "\tMaine &  2.1 &  83 & 51 &  7.8\\\\\n",
       "\tMaryland & 11.3 & 300 & 67 & 27.8\\\\\n",
       "\tMassachusetts &  4.4 & 149 & 85 & 16.3\\\\\n",
       "\tMichigan & 12.1 & 255 & 74 & 35.1\\\\\n",
       "\tMinnesota &  2.7 &  72 & 66 & 14.9\\\\\n",
       "\tMississippi & 16.1 & 259 & 44 & 17.1\\\\\n",
       "\tMissouri &  9.0 & 178 & 70 & 28.2\\\\\n",
       "\tMontana &  6.0 & 109 & 53 & 16.4\\\\\n",
       "\tNebraska &  4.3 & 102 & 62 & 16.5\\\\\n",
       "\tNevada & 12.2 & 252 & 81 & 46.0\\\\\n",
       "\tNew Hampshire &  2.1 &  57 & 56 &  9.5\\\\\n",
       "\tNew Jersey &  7.4 & 159 & 89 & 18.8\\\\\n",
       "\tNew Mexico & 11.4 & 285 & 70 & 32.1\\\\\n",
       "\tNew York & 11.1 & 254 & 86 & 26.1\\\\\n",
       "\tNorth Carolina & 13.0 & 337 & 45 & 16.1\\\\\n",
       "\tNorth Dakota &  0.8 &  45 & 44 &  7.3\\\\\n",
       "\tOhio &  7.3 & 120 & 75 & 21.4\\\\\n",
       "\tOklahoma &  6.6 & 151 & 68 & 20.0\\\\\n",
       "\tOregon &  4.9 & 159 & 67 & 29.3\\\\\n",
       "\tPennsylvania &  6.3 & 106 & 72 & 14.9\\\\\n",
       "\tRhode Island &  3.4 & 174 & 87 &  8.3\\\\\n",
       "\tSouth Carolina & 14.4 & 279 & 48 & 22.5\\\\\n",
       "\tSouth Dakota &  3.8 &  86 & 45 & 12.8\\\\\n",
       "\tTennessee & 13.2 & 188 & 59 & 26.9\\\\\n",
       "\tTexas & 12.7 & 201 & 80 & 25.5\\\\\n",
       "\tUtah &  3.2 & 120 & 80 & 22.9\\\\\n",
       "\tVermont &  2.2 &  48 & 32 & 11.2\\\\\n",
       "\tVirginia &  8.5 & 156 & 63 & 20.7\\\\\n",
       "\tWashington &  4.0 & 145 & 73 & 26.2\\\\\n",
       "\tWest Virginia &  5.7 &  81 & 39 &  9.3\\\\\n",
       "\tWisconsin &  2.6 &  53 & 66 & 10.8\\\\\n",
       "\tWyoming &  6.8 & 161 & 60 & 15.6\\\\\n",
       "\\end{tabular}\n"
      ],
      "text/markdown": [
       "\n",
       "A data.frame: 50 × 4\n",
       "\n",
       "| <!--/--> | Murder &lt;dbl&gt; | Assault &lt;int&gt; | UrbanPop &lt;int&gt; | Rape &lt;dbl&gt; |\n",
       "|---|---|---|---|---|\n",
       "| Alabama | 13.2 | 236 | 58 | 21.2 |\n",
       "| Alaska | 10.0 | 263 | 48 | 44.5 |\n",
       "| Arizona |  8.1 | 294 | 80 | 31.0 |\n",
       "| Arkansas |  8.8 | 190 | 50 | 19.5 |\n",
       "| California |  9.0 | 276 | 91 | 40.6 |\n",
       "| Colorado |  7.9 | 204 | 78 | 38.7 |\n",
       "| Connecticut |  3.3 | 110 | 77 | 11.1 |\n",
       "| Delaware |  5.9 | 238 | 72 | 15.8 |\n",
       "| Florida | 15.4 | 335 | 80 | 31.9 |\n",
       "| Georgia | 17.4 | 211 | 60 | 25.8 |\n",
       "| Hawaii |  5.3 |  46 | 83 | 20.2 |\n",
       "| Idaho |  2.6 | 120 | 54 | 14.2 |\n",
       "| Illinois | 10.4 | 249 | 83 | 24.0 |\n",
       "| Indiana |  7.2 | 113 | 65 | 21.0 |\n",
       "| Iowa |  2.2 |  56 | 57 | 11.3 |\n",
       "| Kansas |  6.0 | 115 | 66 | 18.0 |\n",
       "| Kentucky |  9.7 | 109 | 52 | 16.3 |\n",
       "| Louisiana | 15.4 | 249 | 66 | 22.2 |\n",
       "| Maine |  2.1 |  83 | 51 |  7.8 |\n",
       "| Maryland | 11.3 | 300 | 67 | 27.8 |\n",
       "| Massachusetts |  4.4 | 149 | 85 | 16.3 |\n",
       "| Michigan | 12.1 | 255 | 74 | 35.1 |\n",
       "| Minnesota |  2.7 |  72 | 66 | 14.9 |\n",
       "| Mississippi | 16.1 | 259 | 44 | 17.1 |\n",
       "| Missouri |  9.0 | 178 | 70 | 28.2 |\n",
       "| Montana |  6.0 | 109 | 53 | 16.4 |\n",
       "| Nebraska |  4.3 | 102 | 62 | 16.5 |\n",
       "| Nevada | 12.2 | 252 | 81 | 46.0 |\n",
       "| New Hampshire |  2.1 |  57 | 56 |  9.5 |\n",
       "| New Jersey |  7.4 | 159 | 89 | 18.8 |\n",
       "| New Mexico | 11.4 | 285 | 70 | 32.1 |\n",
       "| New York | 11.1 | 254 | 86 | 26.1 |\n",
       "| North Carolina | 13.0 | 337 | 45 | 16.1 |\n",
       "| North Dakota |  0.8 |  45 | 44 |  7.3 |\n",
       "| Ohio |  7.3 | 120 | 75 | 21.4 |\n",
       "| Oklahoma |  6.6 | 151 | 68 | 20.0 |\n",
       "| Oregon |  4.9 | 159 | 67 | 29.3 |\n",
       "| Pennsylvania |  6.3 | 106 | 72 | 14.9 |\n",
       "| Rhode Island |  3.4 | 174 | 87 |  8.3 |\n",
       "| South Carolina | 14.4 | 279 | 48 | 22.5 |\n",
       "| South Dakota |  3.8 |  86 | 45 | 12.8 |\n",
       "| Tennessee | 13.2 | 188 | 59 | 26.9 |\n",
       "| Texas | 12.7 | 201 | 80 | 25.5 |\n",
       "| Utah |  3.2 | 120 | 80 | 22.9 |\n",
       "| Vermont |  2.2 |  48 | 32 | 11.2 |\n",
       "| Virginia |  8.5 | 156 | 63 | 20.7 |\n",
       "| Washington |  4.0 | 145 | 73 | 26.2 |\n",
       "| West Virginia |  5.7 |  81 | 39 |  9.3 |\n",
       "| Wisconsin |  2.6 |  53 | 66 | 10.8 |\n",
       "| Wyoming |  6.8 | 161 | 60 | 15.6 |\n",
       "\n"
      ],
      "text/plain": [
       "               Murder Assault UrbanPop Rape\n",
       "Alabama        13.2   236     58       21.2\n",
       "Alaska         10.0   263     48       44.5\n",
       "Arizona         8.1   294     80       31.0\n",
       "Arkansas        8.8   190     50       19.5\n",
       "California      9.0   276     91       40.6\n",
       "Colorado        7.9   204     78       38.7\n",
       "Connecticut     3.3   110     77       11.1\n",
       "Delaware        5.9   238     72       15.8\n",
       "Florida        15.4   335     80       31.9\n",
       "Georgia        17.4   211     60       25.8\n",
       "Hawaii          5.3    46     83       20.2\n",
       "Idaho           2.6   120     54       14.2\n",
       "Illinois       10.4   249     83       24.0\n",
       "Indiana         7.2   113     65       21.0\n",
       "Iowa            2.2    56     57       11.3\n",
       "Kansas          6.0   115     66       18.0\n",
       "Kentucky        9.7   109     52       16.3\n",
       "Louisiana      15.4   249     66       22.2\n",
       "Maine           2.1    83     51        7.8\n",
       "Maryland       11.3   300     67       27.8\n",
       "Massachusetts   4.4   149     85       16.3\n",
       "Michigan       12.1   255     74       35.1\n",
       "Minnesota       2.7    72     66       14.9\n",
       "Mississippi    16.1   259     44       17.1\n",
       "Missouri        9.0   178     70       28.2\n",
       "Montana         6.0   109     53       16.4\n",
       "Nebraska        4.3   102     62       16.5\n",
       "Nevada         12.2   252     81       46.0\n",
       "New Hampshire   2.1    57     56        9.5\n",
       "New Jersey      7.4   159     89       18.8\n",
       "New Mexico     11.4   285     70       32.1\n",
       "New York       11.1   254     86       26.1\n",
       "North Carolina 13.0   337     45       16.1\n",
       "North Dakota    0.8    45     44        7.3\n",
       "Ohio            7.3   120     75       21.4\n",
       "Oklahoma        6.6   151     68       20.0\n",
       "Oregon          4.9   159     67       29.3\n",
       "Pennsylvania    6.3   106     72       14.9\n",
       "Rhode Island    3.4   174     87        8.3\n",
       "South Carolina 14.4   279     48       22.5\n",
       "South Dakota    3.8    86     45       12.8\n",
       "Tennessee      13.2   188     59       26.9\n",
       "Texas          12.7   201     80       25.5\n",
       "Utah            3.2   120     80       22.9\n",
       "Vermont         2.2    48     32       11.2\n",
       "Virginia        8.5   156     63       20.7\n",
       "Washington      4.0   145     73       26.2\n",
       "West Virginia   5.7    81     39        9.3\n",
       "Wisconsin       2.6    53     66       10.8\n",
       "Wyoming         6.8   161     60       15.6"
      ]
     },
     "metadata": {},
     "output_type": "display_data"
    }
   ],
   "source": [
    "# Affiche le contenu du jeu de données\n",
    "USArrests"
   ]
  },
  {
   "cell_type": "code",
   "execution_count": 79,
   "metadata": {
    "vscode": {
     "languageId": "r"
    }
   },
   "outputs": [
    {
     "name": "stdout",
     "output_type": "stream",
     "text": [
      "USArrests               package:datasets               R Documentation\n",
      "\n",
      "_\bV_\bi_\bo_\bl_\be_\bn_\bt _\bC_\br_\bi_\bm_\be _\bR_\ba_\bt_\be_\bs _\bb_\by _\bU_\bS _\bS_\bt_\ba_\bt_\be\n",
      "\n",
      "_\bD_\be_\bs_\bc_\br_\bi_\bp_\bt_\bi_\bo_\bn:\n",
      "\n",
      "     This data set contains statistics, in arrests per 100,000\n",
      "     residents for assault, murder, and rape in each of the 50 US\n",
      "     states in 1973.  Also given is the percent of the population\n",
      "     living in urban areas.\n",
      "\n",
      "_\bU_\bs_\ba_\bg_\be:\n",
      "\n",
      "     USArrests\n",
      "     \n",
      "_\bF_\bo_\br_\bm_\ba_\bt:\n",
      "\n",
      "     A data frame with 50 observations on 4 variables.\n",
      "\n",
      "       [,1]  Murder    numeric  Murder arrests (per 100,000)  \n",
      "       [,2]  Assault   numeric  Assault arrests (per 100,000) \n",
      "       [,3]  UrbanPop  numeric  Percent urban population      \n",
      "       [,4]  Rape      numeric  Rape arrests (per 100,000)    \n",
      "      \n",
      "_\bN_\bo_\bt_\be:\n",
      "\n",
      "     ‘USArrests’ contains the data as in McNeil's monograph.  For the\n",
      "     ‘UrbanPop’ percentages, a review of the table (No. 21) in the\n",
      "     Statistical Abstracts 1975 reveals a transcription error for\n",
      "     Maryland (and that McNeil used the same “round to even” rule that\n",
      "     R's ‘round()’ uses), as found by Daniel S Coven (Arizona).\n",
      "\n",
      "     See the example below on how to correct the error and improve\n",
      "     accuracy for the ‘<n>.5’ percentages.\n",
      "\n",
      "_\bS_\bo_\bu_\br_\bc_\be:\n",
      "\n",
      "     World Almanac and Book of facts 1975.  (Crime rates).\n",
      "\n",
      "     Statistical Abstracts of the United States 1975, p.20, (Urban\n",
      "     rates), possibly available as\n",
      "     <https://books.google.ch/books?id=zl9qAAAAMAAJ&pg=PA20>.\n",
      "\n",
      "_\bR_\be_\bf_\be_\br_\be_\bn_\bc_\be_\bs:\n",
      "\n",
      "     McNeil, D. R. (1977) _Interactive Data Analysis_.  New York:\n",
      "     Wiley.\n",
      "\n",
      "_\bS_\be_\be _\bA_\bl_\bs_\bo:\n",
      "\n",
      "     The ‘state’ data sets.\n",
      "\n",
      "_\bE_\bx_\ba_\bm_\bp_\bl_\be_\bs:\n",
      "\n",
      "     summary(USArrests)\n",
      "     \n",
      "     require(graphics)\n",
      "     pairs(USArrests, panel = panel.smooth, main = \"USArrests data\")\n",
      "     \n",
      "     ## Difference between 'USArrests' and its correction\n",
      "     USArrests[\"Maryland\", \"UrbanPop\"] # 67 -- the transcription error\n",
      "     UA.C <- USArrests\n",
      "     UA.C[\"Maryland\", \"UrbanPop\"] <- 76.6\n",
      "     \n",
      "     ## also +/- 0.5 to restore the original  <n>.5  percentages\n",
      "     s5u <- c(\"Colorado\", \"Florida\", \"Mississippi\", \"Wyoming\")\n",
      "     s5d <- c(\"Nebraska\", \"Pennsylvania\")\n",
      "     UA.C[s5u, \"UrbanPop\"] <- UA.C[s5u, \"UrbanPop\"] + 0.5\n",
      "     UA.C[s5d, \"UrbanPop\"] <- UA.C[s5d, \"UrbanPop\"] - 0.5\n",
      "     \n",
      "     ## ==> UA.C  is now a *C*orrected version of  USArrests\n",
      "     "
     ]
    }
   ],
   "source": [
    "# Aide sur le jeu de données\n",
    "help(USArrests)"
   ]
  },
  {
   "cell_type": "markdown",
   "metadata": {},
   "source": [
    "<div class=\"alert alert-block alert-success\">\n",
    "    Utilisez la cellule suivante pour répondre aux questions :\n",
    "    <ol>\n",
    "        <li>À l'aide de la fonction <code>dim()</code>, quelle est la dimension du jeu de données <code>USArrests</code> ?</li>\n",
    "        <li>Calculer les statistiques élémentaires de chaque colonne du jeu de données avec la fonction <code>summary()</code>.</li>\n",
    "        <li>Grâce à la fonction graphique <code>boxplot</code>, représenter en parallèle les boxplots associées à chaque variable et commenter le résultat.</li>\n",
    "        <li>Calculer la variance de chaque variable avec <code>apply</code> et <code>var</code>.</li>\n",
    "        <li>Avec la fonction <code>pairs</code>, représenter graphiquement les nuages de points de toutes les paires de variables.</li>\n",
    "        <li>Calculer la matrice de covariance (fonctions <code>var()</code> ou <code>cov</code>), puis la matrice de corrélation (fonction <code>cor</code>) des variables du jeu de données. Avez-vous calculé le coefficient de corrélation de Pearson ou de Spearman ? Calculer l'autre.</li>\n",
    "        <li>En utilisant le package <code>corrplot</code> et sa fonction <code>corrplot()</code>, proposer une représentation graphique de la matrice de corrélation de Pearson. Commenter.</li>\n",
    "    </ol>\n",
    "</div>"
   ]
  },
  {
   "cell_type": "code",
   "execution_count": 113,
   "metadata": {
    "vscode": {
     "languageId": "r"
    }
   },
   "outputs": [
    {
     "data": {
      "text/html": [
       "<style>\n",
       ".list-inline {list-style: none; margin:0; padding: 0}\n",
       ".list-inline>li {display: inline-block}\n",
       ".list-inline>li:not(:last-child)::after {content: \"\\00b7\"; padding: 0 .5ex}\n",
       "</style>\n",
       "<ol class=list-inline><li>50</li><li>4</li></ol>\n"
      ],
      "text/latex": [
       "\\begin{enumerate*}\n",
       "\\item 50\n",
       "\\item 4\n",
       "\\end{enumerate*}\n"
      ],
      "text/markdown": [
       "1. 50\n",
       "2. 4\n",
       "\n",
       "\n"
      ],
      "text/plain": [
       "[1] 50  4"
      ]
     },
     "metadata": {},
     "output_type": "display_data"
    },
    {
     "data": {
      "text/plain": [
       "     Murder          Assault         UrbanPop          Rape      \n",
       " Min.   : 0.800   Min.   : 45.0   Min.   :32.00   Min.   : 7.30  \n",
       " 1st Qu.: 4.075   1st Qu.:109.0   1st Qu.:54.50   1st Qu.:15.07  \n",
       " Median : 7.250   Median :159.0   Median :66.00   Median :20.10  \n",
       " Mean   : 7.788   Mean   :170.8   Mean   :65.54   Mean   :21.23  \n",
       " 3rd Qu.:11.250   3rd Qu.:249.0   3rd Qu.:77.75   3rd Qu.:26.18  \n",
       " Max.   :17.400   Max.   :337.0   Max.   :91.00   Max.   :46.00  "
      ]
     },
     "metadata": {},
     "output_type": "display_data"
    },
    {
     "data": {
      "text/html": [
       "<style>\n",
       ".dl-inline {width: auto; margin:0; padding: 0}\n",
       ".dl-inline>dt, .dl-inline>dd {float: none; width: auto; display: inline-block}\n",
       ".dl-inline>dt::after {content: \":\\0020\"; padding-right: .5ex}\n",
       ".dl-inline>dt:not(:first-of-type) {padding-left: .5ex}\n",
       "</style><dl class=dl-inline><dt>Murder</dt><dd>18.9704653061224</dd><dt>Assault</dt><dd>6945.16571428571</dd><dt>UrbanPop</dt><dd>209.518775510204</dd><dt>Rape</dt><dd>87.7291591836735</dd></dl>\n"
      ],
      "text/latex": [
       "\\begin{description*}\n",
       "\\item[Murder] 18.9704653061224\n",
       "\\item[Assault] 6945.16571428571\n",
       "\\item[UrbanPop] 209.518775510204\n",
       "\\item[Rape] 87.7291591836735\n",
       "\\end{description*}\n"
      ],
      "text/markdown": [
       "Murder\n",
       ":   18.9704653061224Assault\n",
       ":   6945.16571428571UrbanPop\n",
       ":   209.518775510204Rape\n",
       ":   87.7291591836735\n",
       "\n"
      ],
      "text/plain": [
       "    Murder    Assault   UrbanPop       Rape \n",
       "  18.97047 6945.16571  209.51878   87.72916 "
      ]
     },
     "metadata": {},
     "output_type": "display_data"
    },
    {
     "data": {
      "image/png": "[encoded data removed]",
      "text/plain": [
       "plot without title"
      ]
     },
     "metadata": {
      "image/png": {
       "height": 420,
       "width": 420
      }
     },
     "output_type": "display_data"
    },
    {
     "data": {
      "text/html": [
       "<table class=\"dataframe\">\n",
       "<caption>A matrix: 4 × 4 of type dbl</caption>\n",
       "<thead>\n",
       "\t<tr><th></th><th scope=col>Murder</th><th scope=col>Assault</th><th scope=col>UrbanPop</th><th scope=col>Rape</th></tr>\n",
       "</thead>\n",
       "<tbody>\n",
       "\t<tr><th scope=row>Murder</th><td> 18.970465</td><td> 291.0624</td><td>  4.386204</td><td> 22.99141</td></tr>\n",
       "\t<tr><th scope=row>Assault</th><td>291.062367</td><td>6945.1657</td><td>312.275102</td><td>519.26906</td></tr>\n",
       "\t<tr><th scope=row>UrbanPop</th><td>  4.386204</td><td> 312.2751</td><td>209.518776</td><td> 55.76808</td></tr>\n",
       "\t<tr><th scope=row>Rape</th><td> 22.991412</td><td> 519.2691</td><td> 55.768082</td><td> 87.72916</td></tr>\n",
       "</tbody>\n",
       "</table>\n"
      ],
      "text/latex": [
       "A matrix: 4 × 4 of type dbl\n",
       "\\begin{tabular}{r|llll}\n",
       "  & Murder & Assault & UrbanPop & Rape\\\\\n",
       "\\hline\n",
       "\tMurder &  18.970465 &  291.0624 &   4.386204 &  22.99141\\\\\n",
       "\tAssault & 291.062367 & 6945.1657 & 312.275102 & 519.26906\\\\\n",
       "\tUrbanPop &   4.386204 &  312.2751 & 209.518776 &  55.76808\\\\\n",
       "\tRape &  22.991412 &  519.2691 &  55.768082 &  87.72916\\\\\n",
       "\\end{tabular}\n"
      ],
      "text/markdown": [
       "\n",
       "A matrix: 4 × 4 of type dbl\n",
       "\n",
       "| <!--/--> | Murder | Assault | UrbanPop | Rape |\n",
       "|---|---|---|---|---|\n",
       "| Murder |  18.970465 |  291.0624 |   4.386204 |  22.99141 |\n",
       "| Assault | 291.062367 | 6945.1657 | 312.275102 | 519.26906 |\n",
       "| UrbanPop |   4.386204 |  312.2751 | 209.518776 |  55.76808 |\n",
       "| Rape |  22.991412 |  519.2691 |  55.768082 |  87.72916 |\n",
       "\n"
      ],
      "text/plain": [
       "         Murder     Assault   UrbanPop   Rape     \n",
       "Murder    18.970465  291.0624   4.386204  22.99141\n",
       "Assault  291.062367 6945.1657 312.275102 519.26906\n",
       "UrbanPop   4.386204  312.2751 209.518776  55.76808\n",
       "Rape      22.991412  519.2691  55.768082  87.72916"
      ]
     },
     "metadata": {},
     "output_type": "display_data"
    },
    {
     "name": "stdout",
     "output_type": "stream",
     "text": [
      "            Murder   Assault  UrbanPop      Rape\n",
      "Murder   1.0000000 0.8172735 0.1067163 0.6794265\n",
      "Assault  0.8172735 1.0000000 0.2752133 0.7143681\n",
      "UrbanPop 0.1067163 0.2752133 1.0000000 0.4381068\n",
      "Rape     0.6794265 0.7143681 0.4381068 1.0000000\n",
      "             Murder   Assault   UrbanPop      Rape\n",
      "Murder   1.00000000 0.8018733 0.06957262 0.5635788\n",
      "Assault  0.80187331 1.0000000 0.25887170 0.6652412\n",
      "UrbanPop 0.06957262 0.2588717 1.00000000 0.4113412\n",
      "Rape     0.56357883 0.6652412 0.41134124 1.0000000\n"
     ]
    },
    {
     "data": {
      "image/png": "[encoded data removed]",
      "text/plain": [
       "plot without title"
      ]
     },
     "metadata": {
      "image/png": {
       "height": 420,
       "width": 420
      }
     },
     "output_type": "display_data"
    },
    {
     "data": {
      "image/png": "[encoded data removed]",
      "text/plain": [
       "Plot with title “”"
      ]
     },
     "metadata": {
      "image/png": {
       "height": 420,
       "width": 420
      }
     },
     "output_type": "display_data"
    }
   ],
   "source": [
    "# À FAIRE\n",
    "dim(USArrests)\n",
    "summary(USArrests)\n",
    "\n",
    "par(bg=\"white\")\n",
    "boxplot(USArrests)\n",
    "\n",
    "apply(USArrests, 2, var)\n",
    "\n",
    "pairs(USArrests)\n",
    "\n",
    "mat_cor_pearson <- cor(USArrests, method = \"pearson\")\n",
    "\n",
    "var(USArrests)\n",
    "\n",
    "print(cor(USArrests, method=\"spearman\"))\n",
    "print(mat_cor_pearson)\n",
    "\n",
    "library(\"corrplot\")\n",
    "\n",
    "corrplot(mat_cor_pearson)\n",
    "\n"
   ]
  },
  {
   "cell_type": "markdown",
   "metadata": {},
   "source": [
    "## 3. Jeu de données iris"
   ]
  },
  {
   "cell_type": "code",
   "execution_count": 114,
   "metadata": {
    "vscode": {
     "languageId": "r"
    }
   },
   "outputs": [],
   "source": [
    "# Charge les données dans l'espace de travail\n",
    "data(iris)\n",
    "data(iris3)"
   ]
  },
  {
   "cell_type": "markdown",
   "metadata": {},
   "source": [
    "<div class=\"alert alert-block alert-success\">\n",
    "    Utilisez la cellule suivante pour répondre aux questions :\n",
    "    <ol>\n",
    "        <li>Quelle est la différence entre les jeux de données <code>iris</code> et <code>iris3</code> ?</li>\n",
    "        <li>Calculer la moyenne des 4 variables quantitatives pour chaque espèce d'iris avec <code>apply</code> et <code>mean</code> à partir du jeu de données <code>iris</code>.</li>\n",
    "        <li>Comment obtenir le résultat de la question précédente à partir du jeu de données <code>iris3</code> ?</li>\n",
    "        <li>Pour les 4 variables quantitatives, représenter 3 boxplots en parallèle comme ci-dessous correspondant à chaque espèce d'iris (l'option <code>mfrow=</code> de la fonction <code>par()</code> est une façon de mettre plusieurs graphiques sur une même figure) :<br>\n",
    "            <center><img src=\"img/iris_boxplots.png\"></center></li>\n",
    "        <li>Représenter le nuage de points croisant les variables <code>Petal.Length</code> et <code>Petal.Width</code> en donnant une couleur différente à chaque espèce d'iris. Une légende serait appréciée.<br>\n",
    "            <center><img src=\"img/iris_scatter.png\"></center></li>\n",
    "    </ol>\n",
    "</div>"
   ]
  },
  {
   "cell_type": "code",
   "execution_count": 16,
   "metadata": {
    "vscode": {
     "languageId": "r"
    }
   },
   "outputs": [
    {
     "data": {
      "text/html": [
       "<table class=\"dataframe\">\n",
       "<caption>A matrix: 3 × 4 of type dbl</caption>\n",
       "<tbody>\n",
       "\t<tr><td>5.006</td><td>3.428</td><td>1.462</td><td>0.246</td></tr>\n",
       "\t<tr><td>5.936</td><td>2.770</td><td>4.260</td><td>1.326</td></tr>\n",
       "\t<tr><td>6.588</td><td>2.974</td><td>5.552</td><td>2.026</td></tr>\n",
       "</tbody>\n",
       "</table>\n"
      ],
      "text/latex": [
       "A matrix: 3 × 4 of type dbl\n",
       "\\begin{tabular}{llll}\n",
       "\t 5.006 & 3.428 & 1.462 & 0.246\\\\\n",
       "\t 5.936 & 2.770 & 4.260 & 1.326\\\\\n",
       "\t 6.588 & 2.974 & 5.552 & 2.026\\\\\n",
       "\\end{tabular}\n"
      ],
      "text/markdown": [
       "\n",
       "A matrix: 3 × 4 of type dbl\n",
       "\n",
       "| 5.006 | 3.428 | 1.462 | 0.246 |\n",
       "| 5.936 | 2.770 | 4.260 | 1.326 |\n",
       "| 6.588 | 2.974 | 5.552 | 2.026 |\n",
       "\n"
      ],
      "text/plain": [
       "     [,1]  [,2]  [,3]  [,4] \n",
       "[1,] 5.006 3.428 1.462 0.246\n",
       "[2,] 5.936 2.770 4.260 1.326\n",
       "[3,] 6.588 2.974 5.552 2.026"
      ]
     },
     "metadata": {},
     "output_type": "display_data"
    },
    {
     "data": {
      "text/html": [
       "<table class=\"dataframe\">\n",
       "<caption>A matrix: 3 × 4 of type dbl</caption>\n",
       "<tbody>\n",
       "\t<tr><td>5.006</td><td>3.428</td><td>1.462</td><td>0.246</td></tr>\n",
       "\t<tr><td>5.936</td><td>2.770</td><td>4.260</td><td>1.326</td></tr>\n",
       "\t<tr><td>6.588</td><td>2.974</td><td>5.552</td><td>2.026</td></tr>\n",
       "</tbody>\n",
       "</table>\n"
      ],
      "text/latex": [
       "A matrix: 3 × 4 of type dbl\n",
       "\\begin{tabular}{llll}\n",
       "\t 5.006 & 3.428 & 1.462 & 0.246\\\\\n",
       "\t 5.936 & 2.770 & 4.260 & 1.326\\\\\n",
       "\t 6.588 & 2.974 & 5.552 & 2.026\\\\\n",
       "\\end{tabular}\n"
      ],
      "text/markdown": [
       "\n",
       "A matrix: 3 × 4 of type dbl\n",
       "\n",
       "| 5.006 | 3.428 | 1.462 | 0.246 |\n",
       "| 5.936 | 2.770 | 4.260 | 1.326 |\n",
       "| 6.588 | 2.974 | 5.552 | 2.026 |\n",
       "\n"
      ],
      "text/plain": [
       "     [,1]  [,2]  [,3]  [,4] \n",
       "[1,] 5.006 3.428 1.462 0.246\n",
       "[2,] 5.936 2.770 4.260 1.326\n",
       "[3,] 6.588 2.974 5.552 2.026"
      ]
     },
     "metadata": {},
     "output_type": "display_data"
    },
    {
     "data": {
      "image/png": "[encoded data removed]",
      "text/plain": [
       "plot without title"
      ]
     },
     "metadata": {
      "image/png": {
       "height": 420,
       "width": 420
      }
     },
     "output_type": "display_data"
    },
    {
     "data": {
      "image/png": "[encoded data removed]",
      "text/plain": [
       "plot without title"
      ]
     },
     "metadata": {
      "image/png": {
       "height": 420,
       "width": 420
      }
     },
     "output_type": "display_data"
    }
   ],
   "source": [
    "# À FAIRE\n",
    "# iris3 est une version 3 dimensions du jeu de données iris\n",
    "\n",
    "#2\n",
    "species <- unique(iris$Species)\n",
    "moyennes <- matrix(NA, nrow = length(species), ncol = 4)\n",
    "for (i in 1:length(species)) {\n",
    "  moyennes[i, ] <- apply(iris[iris$Species == species[i], 1:4], 2, mean)\n",
    "}\n",
    "moyennes\n",
    "\n",
    "#3\n",
    "moyennes <- matrix(NA, nrow = dim(iris3)[2]-1, ncol = 4)\n",
    "for (i in 0:(dim(iris3)[2]-1)) {\n",
    "  moyennes[i, ] <- apply(iris3[,,i], 2, mean)\n",
    "}\n",
    "moyennes\n",
    "\n",
    "#4\n",
    "\n",
    "par(bg = \"white\",mfrow = c(1, 3))\n",
    "for (i in 1:3) {\n",
    "  boxplot(iris3[,0:4,i])\n",
    "}\n",
    "\n",
    "par(bg = \"white\",mfrow = c(1, 4))\n",
    "for (i in 1:4) {\n",
    "  boxplot(iris3[,i,])\n",
    "} \n",
    "\n"
   ]
  },
  {
   "cell_type": "code",
   "execution_count": 27,
   "metadata": {
    "vscode": {
     "languageId": "r"
    }
   },
   "outputs": [
    {
     "data": {
      "image/png": "[encoded data removed]",
      "text/plain": [
       "plot without title"
      ]
     },
     "metadata": {
      "image/png": {
       "height": 420,
       "width": 420
      }
     },
     "output_type": "display_data"
    }
   ],
   "source": [
    "par(bg = \"white\")\n",
    "plot(iris3[,3,1], iris3[,4,1], cex = 2, col = 1,\n",
    "     xlab = \"Petal.Length\", ylab = \"Petal.Width\", xlim = range(iris3[,3,]), ylim = range(iris3[,4,]))\n",
    "points(iris3[,3,2], iris3[,4,2], cex = 2, col = 2)\n",
    "points(iris3[,3,3], iris3[,4,3], cex = 2, col = 3)\n",
    "legend(\"topright\", legend = c(\"Setosa\", \"Versicolor\", \"Virginica\"), col = 1:3,)"
   ]
  },
  {
   "cell_type": "code",
   "execution_count": 186,
   "metadata": {
    "vscode": {
     "languageId": "r"
    }
   },
   "outputs": [
    {
     "data": {
      "text/html": [
       "<table class=\"dataframe\">\n",
       "<caption>A matrix: 50 × 4 of type dbl</caption>\n",
       "<thead>\n",
       "\t<tr><th scope=col>Sepal L.</th><th scope=col>Sepal W.</th><th scope=col>Petal L.</th><th scope=col>Petal W.</th></tr>\n",
       "</thead>\n",
       "<tbody>\n",
       "\t<tr><td>6.3</td><td>3.3</td><td>6.0</td><td>2.5</td></tr>\n",
       "\t<tr><td>5.8</td><td>2.7</td><td>5.1</td><td>1.9</td></tr>\n",
       "\t<tr><td>7.1</td><td>3.0</td><td>5.9</td><td>2.1</td></tr>\n",
       "\t<tr><td>6.3</td><td>2.9</td><td>5.6</td><td>1.8</td></tr>\n",
       "\t<tr><td>6.5</td><td>3.0</td><td>5.8</td><td>2.2</td></tr>\n",
       "\t<tr><td>7.6</td><td>3.0</td><td>6.6</td><td>2.1</td></tr>\n",
       "\t<tr><td>4.9</td><td>2.5</td><td>4.5</td><td>1.7</td></tr>\n",
       "\t<tr><td>7.3</td><td>2.9</td><td>6.3</td><td>1.8</td></tr>\n",
       "\t<tr><td>6.7</td><td>2.5</td><td>5.8</td><td>1.8</td></tr>\n",
       "\t<tr><td>7.2</td><td>3.6</td><td>6.1</td><td>2.5</td></tr>\n",
       "\t<tr><td>6.5</td><td>3.2</td><td>5.1</td><td>2.0</td></tr>\n",
       "\t<tr><td>6.4</td><td>2.7</td><td>5.3</td><td>1.9</td></tr>\n",
       "\t<tr><td>6.8</td><td>3.0</td><td>5.5</td><td>2.1</td></tr>\n",
       "\t<tr><td>5.7</td><td>2.5</td><td>5.0</td><td>2.0</td></tr>\n",
       "\t<tr><td>5.8</td><td>2.8</td><td>5.1</td><td>2.4</td></tr>\n",
       "\t<tr><td>6.4</td><td>3.2</td><td>5.3</td><td>2.3</td></tr>\n",
       "\t<tr><td>6.5</td><td>3.0</td><td>5.5</td><td>1.8</td></tr>\n",
       "\t<tr><td>7.7</td><td>3.8</td><td>6.7</td><td>2.2</td></tr>\n",
       "\t<tr><td>7.7</td><td>2.6</td><td>6.9</td><td>2.3</td></tr>\n",
       "\t<tr><td>6.0</td><td>2.2</td><td>5.0</td><td>1.5</td></tr>\n",
       "\t<tr><td>6.9</td><td>3.2</td><td>5.7</td><td>2.3</td></tr>\n",
       "\t<tr><td>5.6</td><td>2.8</td><td>4.9</td><td>2.0</td></tr>\n",
       "\t<tr><td>7.7</td><td>2.8</td><td>6.7</td><td>2.0</td></tr>\n",
       "\t<tr><td>6.3</td><td>2.7</td><td>4.9</td><td>1.8</td></tr>\n",
       "\t<tr><td>6.7</td><td>3.3</td><td>5.7</td><td>2.1</td></tr>\n",
       "\t<tr><td>7.2</td><td>3.2</td><td>6.0</td><td>1.8</td></tr>\n",
       "\t<tr><td>6.2</td><td>2.8</td><td>4.8</td><td>1.8</td></tr>\n",
       "\t<tr><td>6.1</td><td>3.0</td><td>4.9</td><td>1.8</td></tr>\n",
       "\t<tr><td>6.4</td><td>2.8</td><td>5.6</td><td>2.1</td></tr>\n",
       "\t<tr><td>7.2</td><td>3.0</td><td>5.8</td><td>1.6</td></tr>\n",
       "\t<tr><td>7.4</td><td>2.8</td><td>6.1</td><td>1.9</td></tr>\n",
       "\t<tr><td>7.9</td><td>3.8</td><td>6.4</td><td>2.0</td></tr>\n",
       "\t<tr><td>6.4</td><td>2.8</td><td>5.6</td><td>2.2</td></tr>\n",
       "\t<tr><td>6.3</td><td>2.8</td><td>5.1</td><td>1.5</td></tr>\n",
       "\t<tr><td>6.1</td><td>2.6</td><td>5.6</td><td>1.4</td></tr>\n",
       "\t<tr><td>7.7</td><td>3.0</td><td>6.1</td><td>2.3</td></tr>\n",
       "\t<tr><td>6.3</td><td>3.4</td><td>5.6</td><td>2.4</td></tr>\n",
       "\t<tr><td>6.4</td><td>3.1</td><td>5.5</td><td>1.8</td></tr>\n",
       "\t<tr><td>6.0</td><td>3.0</td><td>4.8</td><td>1.8</td></tr>\n",
       "\t<tr><td>6.9</td><td>3.1</td><td>5.4</td><td>2.1</td></tr>\n",
       "\t<tr><td>6.7</td><td>3.1</td><td>5.6</td><td>2.4</td></tr>\n",
       "\t<tr><td>6.9</td><td>3.1</td><td>5.1</td><td>2.3</td></tr>\n",
       "\t<tr><td>5.8</td><td>2.7</td><td>5.1</td><td>1.9</td></tr>\n",
       "\t<tr><td>6.8</td><td>3.2</td><td>5.9</td><td>2.3</td></tr>\n",
       "\t<tr><td>6.7</td><td>3.3</td><td>5.7</td><td>2.5</td></tr>\n",
       "\t<tr><td>6.7</td><td>3.0</td><td>5.2</td><td>2.3</td></tr>\n",
       "\t<tr><td>6.3</td><td>2.5</td><td>5.0</td><td>1.9</td></tr>\n",
       "\t<tr><td>6.5</td><td>3.0</td><td>5.2</td><td>2.0</td></tr>\n",
       "\t<tr><td>6.2</td><td>3.4</td><td>5.4</td><td>2.3</td></tr>\n",
       "\t<tr><td>5.9</td><td>3.0</td><td>5.1</td><td>1.8</td></tr>\n",
       "</tbody>\n",
       "</table>\n"
      ],
      "text/latex": [
       "A matrix: 50 × 4 of type dbl\n",
       "\\begin{tabular}{llll}\n",
       " Sepal L. & Sepal W. & Petal L. & Petal W.\\\\\n",
       "\\hline\n",
       "\t 6.3 & 3.3 & 6.0 & 2.5\\\\\n",
       "\t 5.8 & 2.7 & 5.1 & 1.9\\\\\n",
       "\t 7.1 & 3.0 & 5.9 & 2.1\\\\\n",
       "\t 6.3 & 2.9 & 5.6 & 1.8\\\\\n",
       "\t 6.5 & 3.0 & 5.8 & 2.2\\\\\n",
       "\t 7.6 & 3.0 & 6.6 & 2.1\\\\\n",
       "\t 4.9 & 2.5 & 4.5 & 1.7\\\\\n",
       "\t 7.3 & 2.9 & 6.3 & 1.8\\\\\n",
       "\t 6.7 & 2.5 & 5.8 & 1.8\\\\\n",
       "\t 7.2 & 3.6 & 6.1 & 2.5\\\\\n",
       "\t 6.5 & 3.2 & 5.1 & 2.0\\\\\n",
       "\t 6.4 & 2.7 & 5.3 & 1.9\\\\\n",
       "\t 6.8 & 3.0 & 5.5 & 2.1\\\\\n",
       "\t 5.7 & 2.5 & 5.0 & 2.0\\\\\n",
       "\t 5.8 & 2.8 & 5.1 & 2.4\\\\\n",
       "\t 6.4 & 3.2 & 5.3 & 2.3\\\\\n",
       "\t 6.5 & 3.0 & 5.5 & 1.8\\\\\n",
       "\t 7.7 & 3.8 & 6.7 & 2.2\\\\\n",
       "\t 7.7 & 2.6 & 6.9 & 2.3\\\\\n",
       "\t 6.0 & 2.2 & 5.0 & 1.5\\\\\n",
       "\t 6.9 & 3.2 & 5.7 & 2.3\\\\\n",
       "\t 5.6 & 2.8 & 4.9 & 2.0\\\\\n",
       "\t 7.7 & 2.8 & 6.7 & 2.0\\\\\n",
       "\t 6.3 & 2.7 & 4.9 & 1.8\\\\\n",
       "\t 6.7 & 3.3 & 5.7 & 2.1\\\\\n",
       "\t 7.2 & 3.2 & 6.0 & 1.8\\\\\n",
       "\t 6.2 & 2.8 & 4.8 & 1.8\\\\\n",
       "\t 6.1 & 3.0 & 4.9 & 1.8\\\\\n",
       "\t 6.4 & 2.8 & 5.6 & 2.1\\\\\n",
       "\t 7.2 & 3.0 & 5.8 & 1.6\\\\\n",
       "\t 7.4 & 2.8 & 6.1 & 1.9\\\\\n",
       "\t 7.9 & 3.8 & 6.4 & 2.0\\\\\n",
       "\t 6.4 & 2.8 & 5.6 & 2.2\\\\\n",
       "\t 6.3 & 2.8 & 5.1 & 1.5\\\\\n",
       "\t 6.1 & 2.6 & 5.6 & 1.4\\\\\n",
       "\t 7.7 & 3.0 & 6.1 & 2.3\\\\\n",
       "\t 6.3 & 3.4 & 5.6 & 2.4\\\\\n",
       "\t 6.4 & 3.1 & 5.5 & 1.8\\\\\n",
       "\t 6.0 & 3.0 & 4.8 & 1.8\\\\\n",
       "\t 6.9 & 3.1 & 5.4 & 2.1\\\\\n",
       "\t 6.7 & 3.1 & 5.6 & 2.4\\\\\n",
       "\t 6.9 & 3.1 & 5.1 & 2.3\\\\\n",
       "\t 5.8 & 2.7 & 5.1 & 1.9\\\\\n",
       "\t 6.8 & 3.2 & 5.9 & 2.3\\\\\n",
       "\t 6.7 & 3.3 & 5.7 & 2.5\\\\\n",
       "\t 6.7 & 3.0 & 5.2 & 2.3\\\\\n",
       "\t 6.3 & 2.5 & 5.0 & 1.9\\\\\n",
       "\t 6.5 & 3.0 & 5.2 & 2.0\\\\\n",
       "\t 6.2 & 3.4 & 5.4 & 2.3\\\\\n",
       "\t 5.9 & 3.0 & 5.1 & 1.8\\\\\n",
       "\\end{tabular}\n"
      ],
      "text/markdown": [
       "\n",
       "A matrix: 50 × 4 of type dbl\n",
       "\n",
       "| Sepal L. | Sepal W. | Petal L. | Petal W. |\n",
       "|---|---|---|---|\n",
       "| 6.3 | 3.3 | 6.0 | 2.5 |\n",
       "| 5.8 | 2.7 | 5.1 | 1.9 |\n",
       "| 7.1 | 3.0 | 5.9 | 2.1 |\n",
       "| 6.3 | 2.9 | 5.6 | 1.8 |\n",
       "| 6.5 | 3.0 | 5.8 | 2.2 |\n",
       "| 7.6 | 3.0 | 6.6 | 2.1 |\n",
       "| 4.9 | 2.5 | 4.5 | 1.7 |\n",
       "| 7.3 | 2.9 | 6.3 | 1.8 |\n",
       "| 6.7 | 2.5 | 5.8 | 1.8 |\n",
       "| 7.2 | 3.6 | 6.1 | 2.5 |\n",
       "| 6.5 | 3.2 | 5.1 | 2.0 |\n",
       "| 6.4 | 2.7 | 5.3 | 1.9 |\n",
       "| 6.8 | 3.0 | 5.5 | 2.1 |\n",
       "| 5.7 | 2.5 | 5.0 | 2.0 |\n",
       "| 5.8 | 2.8 | 5.1 | 2.4 |\n",
       "| 6.4 | 3.2 | 5.3 | 2.3 |\n",
       "| 6.5 | 3.0 | 5.5 | 1.8 |\n",
       "| 7.7 | 3.8 | 6.7 | 2.2 |\n",
       "| 7.7 | 2.6 | 6.9 | 2.3 |\n",
       "| 6.0 | 2.2 | 5.0 | 1.5 |\n",
       "| 6.9 | 3.2 | 5.7 | 2.3 |\n",
       "| 5.6 | 2.8 | 4.9 | 2.0 |\n",
       "| 7.7 | 2.8 | 6.7 | 2.0 |\n",
       "| 6.3 | 2.7 | 4.9 | 1.8 |\n",
       "| 6.7 | 3.3 | 5.7 | 2.1 |\n",
       "| 7.2 | 3.2 | 6.0 | 1.8 |\n",
       "| 6.2 | 2.8 | 4.8 | 1.8 |\n",
       "| 6.1 | 3.0 | 4.9 | 1.8 |\n",
       "| 6.4 | 2.8 | 5.6 | 2.1 |\n",
       "| 7.2 | 3.0 | 5.8 | 1.6 |\n",
       "| 7.4 | 2.8 | 6.1 | 1.9 |\n",
       "| 7.9 | 3.8 | 6.4 | 2.0 |\n",
       "| 6.4 | 2.8 | 5.6 | 2.2 |\n",
       "| 6.3 | 2.8 | 5.1 | 1.5 |\n",
       "| 6.1 | 2.6 | 5.6 | 1.4 |\n",
       "| 7.7 | 3.0 | 6.1 | 2.3 |\n",
       "| 6.3 | 3.4 | 5.6 | 2.4 |\n",
       "| 6.4 | 3.1 | 5.5 | 1.8 |\n",
       "| 6.0 | 3.0 | 4.8 | 1.8 |\n",
       "| 6.9 | 3.1 | 5.4 | 2.1 |\n",
       "| 6.7 | 3.1 | 5.6 | 2.4 |\n",
       "| 6.9 | 3.1 | 5.1 | 2.3 |\n",
       "| 5.8 | 2.7 | 5.1 | 1.9 |\n",
       "| 6.8 | 3.2 | 5.9 | 2.3 |\n",
       "| 6.7 | 3.3 | 5.7 | 2.5 |\n",
       "| 6.7 | 3.0 | 5.2 | 2.3 |\n",
       "| 6.3 | 2.5 | 5.0 | 1.9 |\n",
       "| 6.5 | 3.0 | 5.2 | 2.0 |\n",
       "| 6.2 | 3.4 | 5.4 | 2.3 |\n",
       "| 5.9 | 3.0 | 5.1 | 1.8 |\n",
       "\n"
      ],
      "text/plain": [
       "      Sepal L. Sepal W. Petal L. Petal W.\n",
       " [1,] 6.3      3.3      6.0      2.5     \n",
       " [2,] 5.8      2.7      5.1      1.9     \n",
       " [3,] 7.1      3.0      5.9      2.1     \n",
       " [4,] 6.3      2.9      5.6      1.8     \n",
       " [5,] 6.5      3.0      5.8      2.2     \n",
       " [6,] 7.6      3.0      6.6      2.1     \n",
       " [7,] 4.9      2.5      4.5      1.7     \n",
       " [8,] 7.3      2.9      6.3      1.8     \n",
       " [9,] 6.7      2.5      5.8      1.8     \n",
       "[10,] 7.2      3.6      6.1      2.5     \n",
       "[11,] 6.5      3.2      5.1      2.0     \n",
       "[12,] 6.4      2.7      5.3      1.9     \n",
       "[13,] 6.8      3.0      5.5      2.1     \n",
       "[14,] 5.7      2.5      5.0      2.0     \n",
       "[15,] 5.8      2.8      5.1      2.4     \n",
       "[16,] 6.4      3.2      5.3      2.3     \n",
       "[17,] 6.5      3.0      5.5      1.8     \n",
       "[18,] 7.7      3.8      6.7      2.2     \n",
       "[19,] 7.7      2.6      6.9      2.3     \n",
       "[20,] 6.0      2.2      5.0      1.5     \n",
       "[21,] 6.9      3.2      5.7      2.3     \n",
       "[22,] 5.6      2.8      4.9      2.0     \n",
       "[23,] 7.7      2.8      6.7      2.0     \n",
       "[24,] 6.3      2.7      4.9      1.8     \n",
       "[25,] 6.7      3.3      5.7      2.1     \n",
       "[26,] 7.2      3.2      6.0      1.8     \n",
       "[27,] 6.2      2.8      4.8      1.8     \n",
       "[28,] 6.1      3.0      4.9      1.8     \n",
       "[29,] 6.4      2.8      5.6      2.1     \n",
       "[30,] 7.2      3.0      5.8      1.6     \n",
       "[31,] 7.4      2.8      6.1      1.9     \n",
       "[32,] 7.9      3.8      6.4      2.0     \n",
       "[33,] 6.4      2.8      5.6      2.2     \n",
       "[34,] 6.3      2.8      5.1      1.5     \n",
       "[35,] 6.1      2.6      5.6      1.4     \n",
       "[36,] 7.7      3.0      6.1      2.3     \n",
       "[37,] 6.3      3.4      5.6      2.4     \n",
       "[38,] 6.4      3.1      5.5      1.8     \n",
       "[39,] 6.0      3.0      4.8      1.8     \n",
       "[40,] 6.9      3.1      5.4      2.1     \n",
       "[41,] 6.7      3.1      5.6      2.4     \n",
       "[42,] 6.9      3.1      5.1      2.3     \n",
       "[43,] 5.8      2.7      5.1      1.9     \n",
       "[44,] 6.8      3.2      5.9      2.3     \n",
       "[45,] 6.7      3.3      5.7      2.5     \n",
       "[46,] 6.7      3.0      5.2      2.3     \n",
       "[47,] 6.3      2.5      5.0      1.9     \n",
       "[48,] 6.5      3.0      5.2      2.0     \n",
       "[49,] 6.2      3.4      5.4      2.3     \n",
       "[50,] 5.9      3.0      5.1      1.8     "
      ]
     },
     "metadata": {},
     "output_type": "display_data"
    }
   ],
   "source": [
    "iris3[,,3]"
   ]
  }
 ],
 "metadata": {
  "kernelspec": {
   "display_name": "R",
   "language": "R",
   "name": "ir"
  },
  "language_info": {
   "codemirror_mode": "r",
   "file_extension": ".r",
   "mimetype": "text/x-r-source",
   "name": "R",
   "pygments_lexer": "r",
   "version": "4.3.3"
  }
 },
 "nbformat": 4,
 "nbformat_minor": 4
}
